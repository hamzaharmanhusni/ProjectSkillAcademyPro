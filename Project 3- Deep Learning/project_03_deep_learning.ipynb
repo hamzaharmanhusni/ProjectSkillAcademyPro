{
  "cells": [
    {
      "cell_type": "markdown",
      "metadata": {
        "id": "view-in-github",
        "colab_type": "text"
      },
      "source": [
        "<a href=\"https://colab.research.google.com/github/hamzaharmanhusni/ProjectSkillAcademyPro/blob/main/project_03_deep_learning.ipynb\" target=\"_parent\"><img src=\"https://colab.research.google.com/assets/colab-badge.svg\" alt=\"Open In Colab\"/></a>"
      ]
    },
    {
      "cell_type": "markdown",
      "metadata": {
        "id": "3wAdgw0hXaCs"
      },
      "source": [
        "**Instructions for Students:**\n",
        "\n",
        "Please carefully follow these steps to complete and submit your project:\n",
        "\n",
        "1. **Completing the Project**: You are required to work on and complete all tasks in the provided project. Be disciplined and ensure that you thoroughly engage with each task.\n",
        "   \n",
        "2. **Set up a Google Drive Folder**: Each of you must store your work in folder on your Google Drive. Create a new folder if you haven't already. This will be the repository for all your completed project files, aiding you in keeping your work organized and accessible.\n",
        "   \n",
        "3. **Uploading Completed Project**: Upon completion of your project, make sure to upload all necessary files, involving codes, reports, and related documents into the Google Drive folder. Save this link in the 'Student Identity' section and also provide it as the last parameter in the `submit` function that has been provided.\n",
        "   \n",
        "4. **Sharing Folder Link**: You're required to share the link to your project Google Drive folder. This is crucial for the submission and evaluation of your project.\n",
        "   \n",
        "5. **Setting Permission toPublic**: Please make sure your Google Drive folder is set to public. This allows your instructor to access your solutions and assess your work correctly.\n",
        "\n",
        "Adhering to these procedures will facilitate a smooth project process for you and the reviewers."
      ]
    },
    {
      "cell_type": "markdown",
      "metadata": {
        "id": "wveHsdMVXaCw"
      },
      "source": [
        "## Student Identity"
      ]
    },
    {
      "cell_type": "code",
      "execution_count": null,
      "metadata": {
        "id": "hyNIXl_zXaCx"
      },
      "outputs": [],
      "source": [
        "# @title #### Student Identity\n",
        "student_id = \"REAJGDG4\" # @param {type:\"string\"}\n",
        "name = \"Hamzah Arman Husni\" # @param {type:\"string\"}\n",
        "drive_link = \"https://colab.research.google.com/drive/11MVgy-C8iNyBilJ04N2ivT0Km2uZFiqc#scrollTo=hyNIXl_zXaCx\"  # @param {type:\"string\"}"
      ]
    },
    {
      "cell_type": "markdown",
      "metadata": {
        "id": "jtAixAL3XaCz"
      },
      "source": [
        "## Import package"
      ]
    },
    {
      "cell_type": "code",
      "execution_count": null,
      "metadata": {
        "id": "NAxv2pZqXaCz",
        "colab": {
          "base_uri": "https://localhost:8080/"
        },
        "outputId": "6eed5529-07b5-4328-b3e3-4536c4155060"
      },
      "outputs": [
        {
          "output_type": "stream",
          "name": "stdout",
          "text": [
            "Collecting fastbook\n",
            "  Downloading fastbook-0.0.29-py3-none-any.whl (719 kB)\n",
            "\u001b[?25l     \u001b[90m━━━━━━━━━━━━━━━━━━━━━━━━━━━━━━━━━━━━━━━━\u001b[0m \u001b[32m0.0/719.8 kB\u001b[0m \u001b[31m?\u001b[0m eta \u001b[36m-:--:--\u001b[0m\r\u001b[2K     \u001b[91m━━━━━━━━━\u001b[0m\u001b[90m╺\u001b[0m\u001b[90m━━━━━━━━━━━━━━━━━━━━━━━━━━━━━━\u001b[0m \u001b[32m163.8/719.8 kB\u001b[0m \u001b[31m4.8 MB/s\u001b[0m eta \u001b[36m0:00:01\u001b[0m\r\u001b[2K     \u001b[91m━━━━━━━━━━━━━━━━━━━━━━━━━━━━━━━\u001b[0m\u001b[90m╺\u001b[0m\u001b[90m━━━━━━━━\u001b[0m \u001b[32m563.2/719.8 kB\u001b[0m \u001b[31m8.1 MB/s\u001b[0m eta \u001b[36m0:00:01\u001b[0m\r\u001b[2K     \u001b[90m━━━━━━━━━━━━━━━━━━━━━━━━━━━━━━━━━━━━━━━━\u001b[0m \u001b[32m719.8/719.8 kB\u001b[0m \u001b[31m7.3 MB/s\u001b[0m eta \u001b[36m0:00:00\u001b[0m\n",
            "\u001b[?25hRequirement already satisfied: pip in /usr/local/lib/python3.10/dist-packages (from fastbook) (23.1.2)\n",
            "Requirement already satisfied: packaging in /usr/local/lib/python3.10/dist-packages (from fastbook) (23.2)\n",
            "Requirement already satisfied: fastai>=2.6 in /usr/local/lib/python3.10/dist-packages (from fastbook) (2.7.13)\n",
            "Requirement already satisfied: graphviz in /usr/local/lib/python3.10/dist-packages (from fastbook) (0.20.1)\n",
            "Requirement already satisfied: pandas in /usr/local/lib/python3.10/dist-packages (from fastbook) (1.5.3)\n",
            "Requirement already satisfied: requests in /usr/local/lib/python3.10/dist-packages (from fastbook) (2.31.0)\n",
            "Requirement already satisfied: transformers in /usr/local/lib/python3.10/dist-packages (from fastbook) (4.35.2)\n",
            "Collecting datasets (from fastbook)\n",
            "  Downloading datasets-2.16.1-py3-none-any.whl (507 kB)\n",
            "\u001b[2K     \u001b[90m━━━━━━━━━━━━━━━━━━━━━━━━━━━━━━━━━━━━━━━━\u001b[0m \u001b[32m507.1/507.1 kB\u001b[0m \u001b[31m10.9 MB/s\u001b[0m eta \u001b[36m0:00:00\u001b[0m\n",
            "\u001b[?25hRequirement already satisfied: ipywidgets<8 in /usr/local/lib/python3.10/dist-packages (from fastbook) (7.7.1)\n",
            "Collecting sentencepiece (from fastbook)\n",
            "  Downloading sentencepiece-0.1.99-cp310-cp310-manylinux_2_17_x86_64.manylinux2014_x86_64.whl (1.3 MB)\n",
            "\u001b[2K     \u001b[90m━━━━━━━━━━━━━━━━━━━━━━━━━━━━━━━━━━━━━━━━\u001b[0m \u001b[32m1.3/1.3 MB\u001b[0m \u001b[31m14.7 MB/s\u001b[0m eta \u001b[36m0:00:00\u001b[0m\n",
            "\u001b[?25hRequirement already satisfied: fastdownload<2,>=0.0.5 in /usr/local/lib/python3.10/dist-packages (from fastai>=2.6->fastbook) (0.0.7)\n",
            "Requirement already satisfied: fastcore<1.6,>=1.5.29 in /usr/local/lib/python3.10/dist-packages (from fastai>=2.6->fastbook) (1.5.29)\n",
            "Requirement already satisfied: torchvision>=0.11 in /usr/local/lib/python3.10/dist-packages (from fastai>=2.6->fastbook) (0.16.0+cu121)\n",
            "Requirement already satisfied: matplotlib in /usr/local/lib/python3.10/dist-packages (from fastai>=2.6->fastbook) (3.7.1)\n",
            "Requirement already satisfied: pyyaml in /usr/local/lib/python3.10/dist-packages (from fastai>=2.6->fastbook) (6.0.1)\n",
            "Requirement already satisfied: fastprogress>=0.2.4 in /usr/local/lib/python3.10/dist-packages (from fastai>=2.6->fastbook) (1.0.3)\n",
            "Requirement already satisfied: pillow>=9.0.0 in /usr/local/lib/python3.10/dist-packages (from fastai>=2.6->fastbook) (9.4.0)\n",
            "Requirement already satisfied: scikit-learn in /usr/local/lib/python3.10/dist-packages (from fastai>=2.6->fastbook) (1.2.2)\n",
            "Requirement already satisfied: scipy in /usr/local/lib/python3.10/dist-packages (from fastai>=2.6->fastbook) (1.11.4)\n",
            "Requirement already satisfied: spacy<4 in /usr/local/lib/python3.10/dist-packages (from fastai>=2.6->fastbook) (3.6.1)\n",
            "Requirement already satisfied: torch<2.2,>=1.10 in /usr/local/lib/python3.10/dist-packages (from fastai>=2.6->fastbook) (2.1.0+cu121)\n",
            "Requirement already satisfied: ipykernel>=4.5.1 in /usr/local/lib/python3.10/dist-packages (from ipywidgets<8->fastbook) (5.5.6)\n",
            "Requirement already satisfied: ipython-genutils~=0.2.0 in /usr/local/lib/python3.10/dist-packages (from ipywidgets<8->fastbook) (0.2.0)\n",
            "Requirement already satisfied: traitlets>=4.3.1 in /usr/local/lib/python3.10/dist-packages (from ipywidgets<8->fastbook) (5.7.1)\n",
            "Requirement already satisfied: widgetsnbextension~=3.6.0 in /usr/local/lib/python3.10/dist-packages (from ipywidgets<8->fastbook) (3.6.6)\n",
            "Requirement already satisfied: ipython>=4.0.0 in /usr/local/lib/python3.10/dist-packages (from ipywidgets<8->fastbook) (7.34.0)\n",
            "Requirement already satisfied: jupyterlab-widgets>=1.0.0 in /usr/local/lib/python3.10/dist-packages (from ipywidgets<8->fastbook) (3.0.9)\n",
            "Requirement already satisfied: filelock in /usr/local/lib/python3.10/dist-packages (from datasets->fastbook) (3.13.1)\n",
            "Requirement already satisfied: numpy>=1.17 in /usr/local/lib/python3.10/dist-packages (from datasets->fastbook) (1.23.5)\n",
            "Requirement already satisfied: pyarrow>=8.0.0 in /usr/local/lib/python3.10/dist-packages (from datasets->fastbook) (10.0.1)\n",
            "Requirement already satisfied: pyarrow-hotfix in /usr/local/lib/python3.10/dist-packages (from datasets->fastbook) (0.6)\n",
            "Collecting dill<0.3.8,>=0.3.0 (from datasets->fastbook)\n",
            "  Downloading dill-0.3.7-py3-none-any.whl (115 kB)\n",
            "\u001b[2K     \u001b[90m━━━━━━━━━━━━━━━━━━━━━━━━━━━━━━━━━━━━━━━━\u001b[0m \u001b[32m115.3/115.3 kB\u001b[0m \u001b[31m12.7 MB/s\u001b[0m eta \u001b[36m0:00:00\u001b[0m\n",
            "\u001b[?25hRequirement already satisfied: tqdm>=4.62.1 in /usr/local/lib/python3.10/dist-packages (from datasets->fastbook) (4.66.1)\n",
            "Requirement already satisfied: xxhash in /usr/local/lib/python3.10/dist-packages (from datasets->fastbook) (3.4.1)\n",
            "Collecting multiprocess (from datasets->fastbook)\n",
            "  Downloading multiprocess-0.70.16-py310-none-any.whl (134 kB)\n",
            "\u001b[2K     \u001b[90m━━━━━━━━━━━━━━━━━━━━━━━━━━━━━━━━━━━━━━━━\u001b[0m \u001b[32m134.8/134.8 kB\u001b[0m \u001b[31m14.3 MB/s\u001b[0m eta \u001b[36m0:00:00\u001b[0m\n",
            "\u001b[?25hRequirement already satisfied: fsspec[http]<=2023.10.0,>=2023.1.0 in /usr/local/lib/python3.10/dist-packages (from datasets->fastbook) (2023.6.0)\n",
            "Requirement already satisfied: aiohttp in /usr/local/lib/python3.10/dist-packages (from datasets->fastbook) (3.9.1)\n",
            "Requirement already satisfied: huggingface-hub>=0.19.4 in /usr/local/lib/python3.10/dist-packages (from datasets->fastbook) (0.20.3)\n",
            "Requirement already satisfied: charset-normalizer<4,>=2 in /usr/local/lib/python3.10/dist-packages (from requests->fastbook) (3.3.2)\n",
            "Requirement already satisfied: idna<4,>=2.5 in /usr/local/lib/python3.10/dist-packages (from requests->fastbook) (3.6)\n",
            "Requirement already satisfied: urllib3<3,>=1.21.1 in /usr/local/lib/python3.10/dist-packages (from requests->fastbook) (2.0.7)\n",
            "Requirement already satisfied: certifi>=2017.4.17 in /usr/local/lib/python3.10/dist-packages (from requests->fastbook) (2023.11.17)\n",
            "Requirement already satisfied: python-dateutil>=2.8.1 in /usr/local/lib/python3.10/dist-packages (from pandas->fastbook) (2.8.2)\n",
            "Requirement already satisfied: pytz>=2020.1 in /usr/local/lib/python3.10/dist-packages (from pandas->fastbook) (2023.3.post1)\n",
            "Requirement already satisfied: regex!=2019.12.17 in /usr/local/lib/python3.10/dist-packages (from transformers->fastbook) (2023.6.3)\n",
            "Requirement already satisfied: tokenizers<0.19,>=0.14 in /usr/local/lib/python3.10/dist-packages (from transformers->fastbook) (0.15.1)\n",
            "Requirement already satisfied: safetensors>=0.3.1 in /usr/local/lib/python3.10/dist-packages (from transformers->fastbook) (0.4.1)\n",
            "Requirement already satisfied: attrs>=17.3.0 in /usr/local/lib/python3.10/dist-packages (from aiohttp->datasets->fastbook) (23.2.0)\n",
            "Requirement already satisfied: multidict<7.0,>=4.5 in /usr/local/lib/python3.10/dist-packages (from aiohttp->datasets->fastbook) (6.0.4)\n",
            "Requirement already satisfied: yarl<2.0,>=1.0 in /usr/local/lib/python3.10/dist-packages (from aiohttp->datasets->fastbook) (1.9.4)\n",
            "Requirement already satisfied: frozenlist>=1.1.1 in /usr/local/lib/python3.10/dist-packages (from aiohttp->datasets->fastbook) (1.4.1)\n",
            "Requirement already satisfied: aiosignal>=1.1.2 in /usr/local/lib/python3.10/dist-packages (from aiohttp->datasets->fastbook) (1.3.1)\n",
            "Requirement already satisfied: async-timeout<5.0,>=4.0 in /usr/local/lib/python3.10/dist-packages (from aiohttp->datasets->fastbook) (4.0.3)\n",
            "Requirement already satisfied: typing-extensions>=3.7.4.3 in /usr/local/lib/python3.10/dist-packages (from huggingface-hub>=0.19.4->datasets->fastbook) (4.5.0)\n",
            "Requirement already satisfied: jupyter-client in /usr/local/lib/python3.10/dist-packages (from ipykernel>=4.5.1->ipywidgets<8->fastbook) (6.1.12)\n",
            "Requirement already satisfied: tornado>=4.2 in /usr/local/lib/python3.10/dist-packages (from ipykernel>=4.5.1->ipywidgets<8->fastbook) (6.3.2)\n",
            "Requirement already satisfied: setuptools>=18.5 in /usr/local/lib/python3.10/dist-packages (from ipython>=4.0.0->ipywidgets<8->fastbook) (67.7.2)\n",
            "Collecting jedi>=0.16 (from ipython>=4.0.0->ipywidgets<8->fastbook)\n",
            "  Downloading jedi-0.19.1-py2.py3-none-any.whl (1.6 MB)\n",
            "\u001b[2K     \u001b[90m━━━━━━━━━━━━━━━━━━━━━━━━━━━━━━━━━━━━━━━━\u001b[0m \u001b[32m1.6/1.6 MB\u001b[0m \u001b[31m18.3 MB/s\u001b[0m eta \u001b[36m0:00:00\u001b[0m\n",
            "\u001b[?25hRequirement already satisfied: decorator in /usr/local/lib/python3.10/dist-packages (from ipython>=4.0.0->ipywidgets<8->fastbook) (4.4.2)\n",
            "Requirement already satisfied: pickleshare in /usr/local/lib/python3.10/dist-packages (from ipython>=4.0.0->ipywidgets<8->fastbook) (0.7.5)\n",
            "Requirement already satisfied: prompt-toolkit!=3.0.0,!=3.0.1,<3.1.0,>=2.0.0 in /usr/local/lib/python3.10/dist-packages (from ipython>=4.0.0->ipywidgets<8->fastbook) (3.0.43)\n",
            "Requirement already satisfied: pygments in /usr/local/lib/python3.10/dist-packages (from ipython>=4.0.0->ipywidgets<8->fastbook) (2.16.1)\n",
            "Requirement already satisfied: backcall in /usr/local/lib/python3.10/dist-packages (from ipython>=4.0.0->ipywidgets<8->fastbook) (0.2.0)\n",
            "Requirement already satisfied: matplotlib-inline in /usr/local/lib/python3.10/dist-packages (from ipython>=4.0.0->ipywidgets<8->fastbook) (0.1.6)\n",
            "Requirement already satisfied: pexpect>4.3 in /usr/local/lib/python3.10/dist-packages (from ipython>=4.0.0->ipywidgets<8->fastbook) (4.9.0)\n",
            "Requirement already satisfied: six>=1.5 in /usr/local/lib/python3.10/dist-packages (from python-dateutil>=2.8.1->pandas->fastbook) (1.16.0)\n",
            "Requirement already satisfied: spacy-legacy<3.1.0,>=3.0.11 in /usr/local/lib/python3.10/dist-packages (from spacy<4->fastai>=2.6->fastbook) (3.0.12)\n",
            "Requirement already satisfied: spacy-loggers<2.0.0,>=1.0.0 in /usr/local/lib/python3.10/dist-packages (from spacy<4->fastai>=2.6->fastbook) (1.0.5)\n",
            "Requirement already satisfied: murmurhash<1.1.0,>=0.28.0 in /usr/local/lib/python3.10/dist-packages (from spacy<4->fastai>=2.6->fastbook) (1.0.10)\n",
            "Requirement already satisfied: cymem<2.1.0,>=2.0.2 in /usr/local/lib/python3.10/dist-packages (from spacy<4->fastai>=2.6->fastbook) (2.0.8)\n",
            "Requirement already satisfied: preshed<3.1.0,>=3.0.2 in /usr/local/lib/python3.10/dist-packages (from spacy<4->fastai>=2.6->fastbook) (3.0.9)\n",
            "Requirement already satisfied: thinc<8.2.0,>=8.1.8 in /usr/local/lib/python3.10/dist-packages (from spacy<4->fastai>=2.6->fastbook) (8.1.12)\n",
            "Requirement already satisfied: wasabi<1.2.0,>=0.9.1 in /usr/local/lib/python3.10/dist-packages (from spacy<4->fastai>=2.6->fastbook) (1.1.2)\n",
            "Requirement already satisfied: srsly<3.0.0,>=2.4.3 in /usr/local/lib/python3.10/dist-packages (from spacy<4->fastai>=2.6->fastbook) (2.4.8)\n",
            "Requirement already satisfied: catalogue<2.1.0,>=2.0.6 in /usr/local/lib/python3.10/dist-packages (from spacy<4->fastai>=2.6->fastbook) (2.0.10)\n",
            "Requirement already satisfied: typer<0.10.0,>=0.3.0 in /usr/local/lib/python3.10/dist-packages (from spacy<4->fastai>=2.6->fastbook) (0.9.0)\n",
            "Requirement already satisfied: pathy>=0.10.0 in /usr/local/lib/python3.10/dist-packages (from spacy<4->fastai>=2.6->fastbook) (0.11.0)\n",
            "Requirement already satisfied: smart-open<7.0.0,>=5.2.1 in /usr/local/lib/python3.10/dist-packages (from spacy<4->fastai>=2.6->fastbook) (6.4.0)\n",
            "Requirement already satisfied: pydantic!=1.8,!=1.8.1,<3.0.0,>=1.7.4 in /usr/local/lib/python3.10/dist-packages (from spacy<4->fastai>=2.6->fastbook) (1.10.14)\n",
            "Requirement already satisfied: jinja2 in /usr/local/lib/python3.10/dist-packages (from spacy<4->fastai>=2.6->fastbook) (3.1.3)\n",
            "Requirement already satisfied: langcodes<4.0.0,>=3.2.0 in /usr/local/lib/python3.10/dist-packages (from spacy<4->fastai>=2.6->fastbook) (3.3.0)\n",
            "Requirement already satisfied: sympy in /usr/local/lib/python3.10/dist-packages (from torch<2.2,>=1.10->fastai>=2.6->fastbook) (1.12)\n",
            "Requirement already satisfied: networkx in /usr/local/lib/python3.10/dist-packages (from torch<2.2,>=1.10->fastai>=2.6->fastbook) (3.2.1)\n",
            "Requirement already satisfied: triton==2.1.0 in /usr/local/lib/python3.10/dist-packages (from torch<2.2,>=1.10->fastai>=2.6->fastbook) (2.1.0)\n",
            "Requirement already satisfied: notebook>=4.4.1 in /usr/local/lib/python3.10/dist-packages (from widgetsnbextension~=3.6.0->ipywidgets<8->fastbook) (6.5.5)\n",
            "Requirement already satisfied: contourpy>=1.0.1 in /usr/local/lib/python3.10/dist-packages (from matplotlib->fastai>=2.6->fastbook) (1.2.0)\n",
            "Requirement already satisfied: cycler>=0.10 in /usr/local/lib/python3.10/dist-packages (from matplotlib->fastai>=2.6->fastbook) (0.12.1)\n",
            "Requirement already satisfied: fonttools>=4.22.0 in /usr/local/lib/python3.10/dist-packages (from matplotlib->fastai>=2.6->fastbook) (4.47.2)\n",
            "Requirement already satisfied: kiwisolver>=1.0.1 in /usr/local/lib/python3.10/dist-packages (from matplotlib->fastai>=2.6->fastbook) (1.4.5)\n",
            "Requirement already satisfied: pyparsing>=2.3.1 in /usr/local/lib/python3.10/dist-packages (from matplotlib->fastai>=2.6->fastbook) (3.1.1)\n",
            "INFO: pip is looking at multiple versions of multiprocess to determine which version is compatible with other requirements. This could take a while.\n",
            "Collecting multiprocess (from datasets->fastbook)\n",
            "  Downloading multiprocess-0.70.15-py310-none-any.whl (134 kB)\n",
            "\u001b[2K     \u001b[90m━━━━━━━━━━━━━━━━━━━━━━━━━━━━━━━━━━━━━━━━\u001b[0m \u001b[32m134.8/134.8 kB\u001b[0m \u001b[31m14.2 MB/s\u001b[0m eta \u001b[36m0:00:00\u001b[0m\n",
            "\u001b[?25hRequirement already satisfied: joblib>=1.1.1 in /usr/local/lib/python3.10/dist-packages (from scikit-learn->fastai>=2.6->fastbook) (1.3.2)\n",
            "Requirement already satisfied: threadpoolctl>=2.0.0 in /usr/local/lib/python3.10/dist-packages (from scikit-learn->fastai>=2.6->fastbook) (3.2.0)\n",
            "Requirement already satisfied: parso<0.9.0,>=0.8.3 in /usr/local/lib/python3.10/dist-packages (from jedi>=0.16->ipython>=4.0.0->ipywidgets<8->fastbook) (0.8.3)\n",
            "Requirement already satisfied: pyzmq<25,>=17 in /usr/local/lib/python3.10/dist-packages (from notebook>=4.4.1->widgetsnbextension~=3.6.0->ipywidgets<8->fastbook) (23.2.1)\n",
            "Requirement already satisfied: argon2-cffi in /usr/local/lib/python3.10/dist-packages (from notebook>=4.4.1->widgetsnbextension~=3.6.0->ipywidgets<8->fastbook) (23.1.0)\n",
            "Requirement already satisfied: jupyter-core>=4.6.1 in /usr/local/lib/python3.10/dist-packages (from notebook>=4.4.1->widgetsnbextension~=3.6.0->ipywidgets<8->fastbook) (5.7.1)\n",
            "Requirement already satisfied: nbformat in /usr/local/lib/python3.10/dist-packages (from notebook>=4.4.1->widgetsnbextension~=3.6.0->ipywidgets<8->fastbook) (5.9.2)\n",
            "Requirement already satisfied: nbconvert>=5 in /usr/local/lib/python3.10/dist-packages (from notebook>=4.4.1->widgetsnbextension~=3.6.0->ipywidgets<8->fastbook) (6.5.4)\n",
            "Requirement already satisfied: nest-asyncio>=1.5 in /usr/local/lib/python3.10/dist-packages (from notebook>=4.4.1->widgetsnbextension~=3.6.0->ipywidgets<8->fastbook) (1.6.0)\n",
            "Requirement already satisfied: Send2Trash>=1.8.0 in /usr/local/lib/python3.10/dist-packages (from notebook>=4.4.1->widgetsnbextension~=3.6.0->ipywidgets<8->fastbook) (1.8.2)\n",
            "Requirement already satisfied: terminado>=0.8.3 in /usr/local/lib/python3.10/dist-packages (from notebook>=4.4.1->widgetsnbextension~=3.6.0->ipywidgets<8->fastbook) (0.18.0)\n",
            "Requirement already satisfied: prometheus-client in /usr/local/lib/python3.10/dist-packages (from notebook>=4.4.1->widgetsnbextension~=3.6.0->ipywidgets<8->fastbook) (0.19.0)\n",
            "Requirement already satisfied: nbclassic>=0.4.7 in /usr/local/lib/python3.10/dist-packages (from notebook>=4.4.1->widgetsnbextension~=3.6.0->ipywidgets<8->fastbook) (1.0.0)\n",
            "Requirement already satisfied: pathlib-abc==0.1.1 in /usr/local/lib/python3.10/dist-packages (from pathy>=0.10.0->spacy<4->fastai>=2.6->fastbook) (0.1.1)\n",
            "Requirement already satisfied: ptyprocess>=0.5 in /usr/local/lib/python3.10/dist-packages (from pexpect>4.3->ipython>=4.0.0->ipywidgets<8->fastbook) (0.7.0)\n",
            "Requirement already satisfied: wcwidth in /usr/local/lib/python3.10/dist-packages (from prompt-toolkit!=3.0.0,!=3.0.1,<3.1.0,>=2.0.0->ipython>=4.0.0->ipywidgets<8->fastbook) (0.2.13)\n",
            "Requirement already satisfied: blis<0.8.0,>=0.7.8 in /usr/local/lib/python3.10/dist-packages (from thinc<8.2.0,>=8.1.8->spacy<4->fastai>=2.6->fastbook) (0.7.11)\n",
            "Requirement already satisfied: confection<1.0.0,>=0.0.1 in /usr/local/lib/python3.10/dist-packages (from thinc<8.2.0,>=8.1.8->spacy<4->fastai>=2.6->fastbook) (0.1.4)\n",
            "Requirement already satisfied: click<9.0.0,>=7.1.1 in /usr/local/lib/python3.10/dist-packages (from typer<0.10.0,>=0.3.0->spacy<4->fastai>=2.6->fastbook) (8.1.7)\n",
            "Requirement already satisfied: MarkupSafe>=2.0 in /usr/local/lib/python3.10/dist-packages (from jinja2->spacy<4->fastai>=2.6->fastbook) (2.1.4)\n",
            "Requirement already satisfied: mpmath>=0.19 in /usr/local/lib/python3.10/dist-packages (from sympy->torch<2.2,>=1.10->fastai>=2.6->fastbook) (1.3.0)\n",
            "Requirement already satisfied: platformdirs>=2.5 in /usr/local/lib/python3.10/dist-packages (from jupyter-core>=4.6.1->notebook>=4.4.1->widgetsnbextension~=3.6.0->ipywidgets<8->fastbook) (4.1.0)\n",
            "Requirement already satisfied: jupyter-server>=1.8 in /usr/local/lib/python3.10/dist-packages (from nbclassic>=0.4.7->notebook>=4.4.1->widgetsnbextension~=3.6.0->ipywidgets<8->fastbook) (1.24.0)\n",
            "Requirement already satisfied: notebook-shim>=0.2.3 in /usr/local/lib/python3.10/dist-packages (from nbclassic>=0.4.7->notebook>=4.4.1->widgetsnbextension~=3.6.0->ipywidgets<8->fastbook) (0.2.3)\n",
            "Requirement already satisfied: lxml in /usr/local/lib/python3.10/dist-packages (from nbconvert>=5->notebook>=4.4.1->widgetsnbextension~=3.6.0->ipywidgets<8->fastbook) (4.9.4)\n",
            "Requirement already satisfied: beautifulsoup4 in /usr/local/lib/python3.10/dist-packages (from nbconvert>=5->notebook>=4.4.1->widgetsnbextension~=3.6.0->ipywidgets<8->fastbook) (4.11.2)\n",
            "Requirement already satisfied: bleach in /usr/local/lib/python3.10/dist-packages (from nbconvert>=5->notebook>=4.4.1->widgetsnbextension~=3.6.0->ipywidgets<8->fastbook) (6.1.0)\n",
            "Requirement already satisfied: defusedxml in /usr/local/lib/python3.10/dist-packages (from nbconvert>=5->notebook>=4.4.1->widgetsnbextension~=3.6.0->ipywidgets<8->fastbook) (0.7.1)\n",
            "Requirement already satisfied: entrypoints>=0.2.2 in /usr/local/lib/python3.10/dist-packages (from nbconvert>=5->notebook>=4.4.1->widgetsnbextension~=3.6.0->ipywidgets<8->fastbook) (0.4)\n",
            "Requirement already satisfied: jupyterlab-pygments in /usr/local/lib/python3.10/dist-packages (from nbconvert>=5->notebook>=4.4.1->widgetsnbextension~=3.6.0->ipywidgets<8->fastbook) (0.3.0)\n",
            "Requirement already satisfied: mistune<2,>=0.8.1 in /usr/local/lib/python3.10/dist-packages (from nbconvert>=5->notebook>=4.4.1->widgetsnbextension~=3.6.0->ipywidgets<8->fastbook) (0.8.4)\n",
            "Requirement already satisfied: nbclient>=0.5.0 in /usr/local/lib/python3.10/dist-packages (from nbconvert>=5->notebook>=4.4.1->widgetsnbextension~=3.6.0->ipywidgets<8->fastbook) (0.9.0)\n",
            "Requirement already satisfied: pandocfilters>=1.4.1 in /usr/local/lib/python3.10/dist-packages (from nbconvert>=5->notebook>=4.4.1->widgetsnbextension~=3.6.0->ipywidgets<8->fastbook) (1.5.1)\n",
            "Requirement already satisfied: tinycss2 in /usr/local/lib/python3.10/dist-packages (from nbconvert>=5->notebook>=4.4.1->widgetsnbextension~=3.6.0->ipywidgets<8->fastbook) (1.2.1)\n",
            "Requirement already satisfied: fastjsonschema in /usr/local/lib/python3.10/dist-packages (from nbformat->notebook>=4.4.1->widgetsnbextension~=3.6.0->ipywidgets<8->fastbook) (2.19.1)\n",
            "Requirement already satisfied: jsonschema>=2.6 in /usr/local/lib/python3.10/dist-packages (from nbformat->notebook>=4.4.1->widgetsnbextension~=3.6.0->ipywidgets<8->fastbook) (4.19.2)\n",
            "Requirement already satisfied: argon2-cffi-bindings in /usr/local/lib/python3.10/dist-packages (from argon2-cffi->notebook>=4.4.1->widgetsnbextension~=3.6.0->ipywidgets<8->fastbook) (21.2.0)\n",
            "Requirement already satisfied: jsonschema-specifications>=2023.03.6 in /usr/local/lib/python3.10/dist-packages (from jsonschema>=2.6->nbformat->notebook>=4.4.1->widgetsnbextension~=3.6.0->ipywidgets<8->fastbook) (2023.12.1)\n",
            "Requirement already satisfied: referencing>=0.28.4 in /usr/local/lib/python3.10/dist-packages (from jsonschema>=2.6->nbformat->notebook>=4.4.1->widgetsnbextension~=3.6.0->ipywidgets<8->fastbook) (0.32.1)\n",
            "Requirement already satisfied: rpds-py>=0.7.1 in /usr/local/lib/python3.10/dist-packages (from jsonschema>=2.6->nbformat->notebook>=4.4.1->widgetsnbextension~=3.6.0->ipywidgets<8->fastbook) (0.17.1)\n",
            "Requirement already satisfied: anyio<4,>=3.1.0 in /usr/local/lib/python3.10/dist-packages (from jupyter-server>=1.8->nbclassic>=0.4.7->notebook>=4.4.1->widgetsnbextension~=3.6.0->ipywidgets<8->fastbook) (3.7.1)\n",
            "Requirement already satisfied: websocket-client in /usr/local/lib/python3.10/dist-packages (from jupyter-server>=1.8->nbclassic>=0.4.7->notebook>=4.4.1->widgetsnbextension~=3.6.0->ipywidgets<8->fastbook) (1.7.0)\n",
            "Requirement already satisfied: cffi>=1.0.1 in /usr/local/lib/python3.10/dist-packages (from argon2-cffi-bindings->argon2-cffi->notebook>=4.4.1->widgetsnbextension~=3.6.0->ipywidgets<8->fastbook) (1.16.0)\n",
            "Requirement already satisfied: soupsieve>1.2 in /usr/local/lib/python3.10/dist-packages (from beautifulsoup4->nbconvert>=5->notebook>=4.4.1->widgetsnbextension~=3.6.0->ipywidgets<8->fastbook) (2.5)\n",
            "Requirement already satisfied: webencodings in /usr/local/lib/python3.10/dist-packages (from bleach->nbconvert>=5->notebook>=4.4.1->widgetsnbextension~=3.6.0->ipywidgets<8->fastbook) (0.5.1)\n",
            "Requirement already satisfied: sniffio>=1.1 in /usr/local/lib/python3.10/dist-packages (from anyio<4,>=3.1.0->jupyter-server>=1.8->nbclassic>=0.4.7->notebook>=4.4.1->widgetsnbextension~=3.6.0->ipywidgets<8->fastbook) (1.3.0)\n",
            "Requirement already satisfied: exceptiongroup in /usr/local/lib/python3.10/dist-packages (from anyio<4,>=3.1.0->jupyter-server>=1.8->nbclassic>=0.4.7->notebook>=4.4.1->widgetsnbextension~=3.6.0->ipywidgets<8->fastbook) (1.2.0)\n",
            "Requirement already satisfied: pycparser in /usr/local/lib/python3.10/dist-packages (from cffi>=1.0.1->argon2-cffi-bindings->argon2-cffi->notebook>=4.4.1->widgetsnbextension~=3.6.0->ipywidgets<8->fastbook) (2.21)\n",
            "Installing collected packages: sentencepiece, jedi, dill, multiprocess, datasets, fastbook\n",
            "Successfully installed datasets-2.16.1 dill-0.3.7 fastbook-0.0.29 jedi-0.19.1 multiprocess-0.70.15 sentencepiece-0.1.99\n",
            "Collecting rggrader\n",
            "  Downloading rggrader-0.1.6-py3-none-any.whl (2.5 kB)\n",
            "Requirement already satisfied: requests in /usr/local/lib/python3.10/dist-packages (from rggrader) (2.31.0)\n",
            "Requirement already satisfied: pandas in /usr/local/lib/python3.10/dist-packages (from rggrader) (1.5.3)\n",
            "Requirement already satisfied: Pillow in /usr/local/lib/python3.10/dist-packages (from rggrader) (9.4.0)\n",
            "Requirement already satisfied: python-dateutil>=2.8.1 in /usr/local/lib/python3.10/dist-packages (from pandas->rggrader) (2.8.2)\n",
            "Requirement already satisfied: pytz>=2020.1 in /usr/local/lib/python3.10/dist-packages (from pandas->rggrader) (2023.3.post1)\n",
            "Requirement already satisfied: numpy>=1.21.0 in /usr/local/lib/python3.10/dist-packages (from pandas->rggrader) (1.23.5)\n",
            "Requirement already satisfied: charset-normalizer<4,>=2 in /usr/local/lib/python3.10/dist-packages (from requests->rggrader) (3.3.2)\n",
            "Requirement already satisfied: idna<4,>=2.5 in /usr/local/lib/python3.10/dist-packages (from requests->rggrader) (3.6)\n",
            "Requirement already satisfied: urllib3<3,>=1.21.1 in /usr/local/lib/python3.10/dist-packages (from requests->rggrader) (2.0.7)\n",
            "Requirement already satisfied: certifi>=2017.4.17 in /usr/local/lib/python3.10/dist-packages (from requests->rggrader) (2023.11.17)\n",
            "Requirement already satisfied: six>=1.5 in /usr/local/lib/python3.10/dist-packages (from python-dateutil>=2.8.1->pandas->rggrader) (1.16.0)\n",
            "Installing collected packages: rggrader\n",
            "Successfully installed rggrader-0.1.6\n"
          ]
        }
      ],
      "source": [
        "!pip install fastbook\n",
        "\n",
        "!pip install rggrader\n",
        "from rggrader import submit"
      ]
    },
    {
      "cell_type": "markdown",
      "metadata": {
        "id": "3qeQytyUXaC0"
      },
      "source": [
        "\n",
        "## Task 1\n",
        "\n",
        "Given\n",
        "\n",
        "$$\n",
        "X = \\begin{bmatrix}\n",
        "a \\\\\n",
        "b \\\\\n",
        "c \\\\\n",
        "d \\\\\n",
        "e\n",
        "\\end{bmatrix}\n",
        "$$\n",
        "\n",
        "and\n",
        "\n",
        "$$\n",
        "M =\n",
        "\\begin{bmatrix}\n",
        "-2 & 3 & 3 & 3 & -4 \\\\\n",
        "0 & -4 & -1 & 1 & 2 \\\\\n",
        "1 & 5 & 4 & 2 & 0 \\\\\n",
        "-2 & 5 & -5 & 3 & 1 \\\\\n",
        "-3 & 2 & 4 & 3 & 4 \\\\\n",
        "\\end{bmatrix}\n",
        "$$\n",
        "\n",
        "and\n",
        "\n",
        "$$\n",
        "M \\cdot X =\n",
        " =\n",
        "\\begin{bmatrix}\n",
        "-33 \\\\\n",
        "9 \\\\\n",
        "-34 \\\\\n",
        "-38 \\\\\n",
        " -40\n",
        "\\end{bmatrix}\n",
        "$$\n",
        "\n",
        "What is the value of $a + b + c + d + e$?"
      ]
    },
    {
      "cell_type": "code",
      "execution_count": null,
      "metadata": {
        "id": "bjvNSoRwXaC0",
        "colab": {
          "base_uri": "https://localhost:8080/",
          "height": 35
        },
        "outputId": "45517430-b6c1-4492-f422-551fe84a03c8"
      },
      "outputs": [
        {
          "output_type": "execute_result",
          "data": {
            "text/plain": [
              "'Assignment successfully submitted'"
            ],
            "application/vnd.google.colaboratory.intrinsic+json": {
              "type": "string"
            }
          },
          "metadata": {},
          "execution_count": 8
        }
      ],
      "source": [
        "# You may add any code here to derive your variables\n",
        "# Please change this\n",
        "\n",
        "import numpy as np\n",
        "\n",
        "\n",
        "# Define the coefficient matrix M and the right-hand side vector MX\n",
        "M = np.array([[-2, 3, 3, 3, -4],\n",
        "              [0, -4, -1, 1, 2],\n",
        "              [1, 5, 4, 2, 0],\n",
        "              [-2, 5, -5, 3, 1],\n",
        "              [-3, 2, 4, 3, 4]])\n",
        "\n",
        "MX = np.array([-33, 9, -34, -38, -40])\n",
        "\n",
        "# Ubah matriks menjadi 5x1\n",
        "MX = MX.reshape((5, 1))\n",
        "\n",
        "\n",
        "\n",
        "# Solve the system of linear equations\n",
        "X = np.linalg.solve(M, MX)\n",
        "\n",
        "a, b, c, d, e = (round(X[0].item())), (round(X[1].item())), (round(X[2].item())), (round(X[3].item())), (round(X[4].item()))\n",
        "\n",
        "total = a + b + c + d + e\n",
        "total = round(total)\n",
        "\n",
        "assignment_id = \"09-deep-learning-project\"\n",
        "question_id = \"q1_linear_algebra\"\n",
        "submit(student_id, name, assignment_id, str(total), question_id, drive_link)\n"
      ]
    },
    {
      "cell_type": "code",
      "source": [
        "str(total)"
      ],
      "metadata": {
        "colab": {
          "base_uri": "https://localhost:8080/",
          "height": 35
        },
        "id": "tU-LnfS4Mjun",
        "outputId": "5fb39519-1d88-4764-b08c-19964c1f51c7"
      },
      "execution_count": null,
      "outputs": [
        {
          "output_type": "execute_result",
          "data": {
            "text/plain": [
              "'-10'"
            ],
            "application/vnd.google.colaboratory.intrinsic+json": {
              "type": "string"
            }
          },
          "metadata": {},
          "execution_count": 9
        }
      ]
    },
    {
      "cell_type": "code",
      "source": [
        "type(total)"
      ],
      "metadata": {
        "colab": {
          "base_uri": "https://localhost:8080/"
        },
        "id": "wRwxCWcXJIOk",
        "outputId": "79728359-5c54-4170-9c4b-b447cb75d50f"
      },
      "execution_count": null,
      "outputs": [
        {
          "output_type": "execute_result",
          "data": {
            "text/plain": [
              "float"
            ]
          },
          "metadata": {},
          "execution_count": 7
        }
      ]
    },
    {
      "cell_type": "markdown",
      "metadata": {
        "id": "Ct3mucWTXaC0"
      },
      "source": [
        "## Task 2\n",
        "\n",
        "What is the output of the following Neural Network?"
      ]
    },
    {
      "cell_type": "code",
      "source": [
        "!pip install -Uqq fastbook"
      ],
      "metadata": {
        "id": "pm8mmQQ6hBNq"
      },
      "execution_count": null,
      "outputs": []
    },
    {
      "cell_type": "code",
      "execution_count": null,
      "metadata": {
        "id": "IDCO6FlEXaC1",
        "outputId": "0709e83d-d84a-42b6-9f12-11a65a72bd31",
        "colab": {
          "base_uri": "https://localhost:8080/",
          "height": 195
        }
      },
      "outputs": [
        {
          "output_type": "execute_result",
          "data": {
            "image/svg+xml": "<?xml version=\"1.0\" encoding=\"UTF-8\" standalone=\"no\"?>\n<!DOCTYPE svg PUBLIC \"-//W3C//DTD SVG 1.1//EN\"\n \"http://www.w3.org/Graphics/SVG/1.1/DTD/svg11.dtd\">\n<!-- Generated by graphviz version 2.43.0 (0)\n -->\n<!-- Title: G Pages: 1 -->\n<svg width=\"451pt\" height=\"130pt\"\n viewBox=\"0.00 0.00 451.29 130.00\" xmlns=\"http://www.w3.org/2000/svg\" xmlns:xlink=\"http://www.w3.org/1999/xlink\">\n<g id=\"graph0\" class=\"graph\" transform=\"scale(1 1) rotate(0) translate(4 126)\">\n<title>G</title>\n<polygon fill=\"white\" stroke=\"transparent\" points=\"-4,4 -4,-126 447.29,-126 447.29,4 -4,4\"/>\n<!-- z_1 -->\n<g id=\"node1\" class=\"node\">\n<title>z_1</title>\n<polygon fill=\"none\" stroke=\"black\" points=\"211,-120 124,-120 120,-116 120,-70 207,-70 211,-74 211,-120\"/>\n<polyline fill=\"none\" stroke=\"black\" points=\"207,-116 120,-116 \"/>\n<polyline fill=\"none\" stroke=\"black\" points=\"207,-116 207,-70 \"/>\n<polyline fill=\"none\" stroke=\"black\" points=\"207,-116 211,-120 \"/>\n<text text-anchor=\"middle\" x=\"165.5\" y=\"-91.3\" font-family=\"Times,serif\" font-size=\"14.00\">b = &#45;2, ReLU</text>\n</g>\n<!-- z_3 -->\n<g id=\"node3\" class=\"node\">\n<title>z_3</title>\n<polygon fill=\"none\" stroke=\"black\" points=\"340,-86 258,-86 254,-82 254,-36 336,-36 340,-40 340,-86\"/>\n<polyline fill=\"none\" stroke=\"black\" points=\"336,-82 254,-82 \"/>\n<polyline fill=\"none\" stroke=\"black\" points=\"336,-82 336,-36 \"/>\n<polyline fill=\"none\" stroke=\"black\" points=\"336,-82 340,-86 \"/>\n<text text-anchor=\"middle\" x=\"297\" y=\"-57.3\" font-family=\"Times,serif\" font-size=\"14.00\">b = 4, ReLU</text>\n</g>\n<!-- z_1&#45;&gt;z_3 -->\n<g id=\"edge5\" class=\"edge\">\n<title>z_1&#45;&gt;z_3</title>\n<path fill=\"none\" stroke=\"black\" d=\"M211.07,-83.3C221.71,-80.5 233.16,-77.5 244.1,-74.63\"/>\n<polygon fill=\"black\" stroke=\"black\" points=\"245.19,-77.96 253.97,-72.04 243.41,-71.19 245.19,-77.96\"/>\n<text text-anchor=\"middle\" x=\"232.5\" y=\"-81.8\" font-family=\"Times,serif\" font-size=\"14.00\">2</text>\n</g>\n<!-- z_2 -->\n<g id=\"node2\" class=\"node\">\n<title>z_2</title>\n<polygon fill=\"none\" stroke=\"black\" points=\"211,-52 124,-52 120,-48 120,-2 207,-2 211,-6 211,-52\"/>\n<polyline fill=\"none\" stroke=\"black\" points=\"207,-48 120,-48 \"/>\n<polyline fill=\"none\" stroke=\"black\" points=\"207,-48 207,-2 \"/>\n<polyline fill=\"none\" stroke=\"black\" points=\"207,-48 211,-52 \"/>\n<text text-anchor=\"middle\" x=\"165.5\" y=\"-23.3\" font-family=\"Times,serif\" font-size=\"14.00\">b = &#45;6, ReLU</text>\n</g>\n<!-- z_2&#45;&gt;z_3 -->\n<g id=\"edge6\" class=\"edge\">\n<title>z_2&#45;&gt;z_3</title>\n<path fill=\"none\" stroke=\"black\" d=\"M211.07,-38.7C221.71,-41.5 233.16,-44.5 244.1,-47.37\"/>\n<polygon fill=\"black\" stroke=\"black\" points=\"243.41,-50.81 253.97,-49.96 245.19,-44.04 243.41,-50.81\"/>\n<text text-anchor=\"middle\" x=\"232.5\" y=\"-48.8\" font-family=\"Times,serif\" font-size=\"14.00\">3</text>\n</g>\n<!-- output -->\n<g id=\"node6\" class=\"node\">\n<title>output</title>\n<ellipse fill=\"none\" stroke=\"black\" cx=\"410.15\" cy=\"-61\" rx=\"33.29\" ry=\"18\"/>\n<text text-anchor=\"middle\" x=\"410.15\" y=\"-57.3\" font-family=\"Times,serif\" font-size=\"14.00\">output</text>\n</g>\n<!-- z_3&#45;&gt;output -->\n<g id=\"edge7\" class=\"edge\">\n<title>z_3&#45;&gt;output</title>\n<path fill=\"none\" stroke=\"black\" d=\"M340.02,-61C348.77,-61 357.99,-61 366.76,-61\"/>\n<polygon fill=\"black\" stroke=\"black\" points=\"366.77,-64.5 376.77,-61 366.77,-57.5 366.77,-64.5\"/>\n</g>\n<!-- input_1 -->\n<g id=\"node4\" class=\"node\">\n<title>input_1</title>\n<ellipse fill=\"none\" stroke=\"black\" cx=\"36\" cy=\"-97\" rx=\"36\" ry=\"25\"/>\n<text text-anchor=\"middle\" x=\"36\" y=\"-93.3\" font-family=\"Times,serif\" font-size=\"14.00\">4</text>\n</g>\n<!-- input_1&#45;&gt;z_1 -->\n<g id=\"edge1\" class=\"edge\">\n<title>input_1&#45;&gt;z_1</title>\n<path fill=\"none\" stroke=\"black\" d=\"M72.08,-96.46C81.78,-96.32 92.3,-96.15 102,-96 104.52,-95.96 107.09,-95.92 109.69,-95.88\"/>\n<polygon fill=\"black\" stroke=\"black\" points=\"109.83,-99.38 119.78,-95.72 109.72,-92.38 109.83,-99.38\"/>\n<text text-anchor=\"middle\" x=\"96\" y=\"-99.8\" font-family=\"Times,serif\" font-size=\"14.00\">4</text>\n</g>\n<!-- input_1&#45;&gt;z_2 -->\n<g id=\"edge3\" class=\"edge\">\n<title>input_1&#45;&gt;z_2</title>\n<path fill=\"none\" stroke=\"black\" d=\"M64.67,-81.81C78.13,-74.42 94.81,-65.26 110.65,-56.57\"/>\n<polygon fill=\"black\" stroke=\"black\" points=\"112.76,-59.4 119.85,-51.52 109.39,-53.26 112.76,-59.4\"/>\n<text text-anchor=\"middle\" x=\"96\" y=\"-69.8\" font-family=\"Times,serif\" font-size=\"14.00\">0</text>\n</g>\n<!-- input_2 -->\n<g id=\"node5\" class=\"node\">\n<title>input_2</title>\n<ellipse fill=\"none\" stroke=\"black\" cx=\"36\" cy=\"-25\" rx=\"36\" ry=\"25\"/>\n<text text-anchor=\"middle\" x=\"36\" y=\"-21.3\" font-family=\"Times,serif\" font-size=\"14.00\">&#45;3</text>\n</g>\n<!-- input_2&#45;&gt;z_1 -->\n<g id=\"edge2\" class=\"edge\">\n<title>input_2&#45;&gt;z_1</title>\n<path fill=\"none\" stroke=\"black\" d=\"M71.06,-30.93C81.44,-33.64 92.59,-37.52 102,-43 111.77,-48.7 111.49,-53.55 120,-61 120.84,-61.74 121.7,-62.48 122.56,-63.21\"/>\n<polygon fill=\"black\" stroke=\"black\" points=\"120.65,-66.17 130.59,-69.84 125.11,-60.78 120.65,-66.17\"/>\n<text text-anchor=\"middle\" x=\"96\" y=\"-46.8\" font-family=\"Times,serif\" font-size=\"14.00\">2</text>\n</g>\n<!-- input_2&#45;&gt;z_2 -->\n<g id=\"edge4\" class=\"edge\">\n<title>input_2&#45;&gt;z_2</title>\n<path fill=\"none\" stroke=\"black\" d=\"M66.73,-11.64C74.18,-8.89 82.26,-6.41 90,-5 96.44,-3.82 103.12,-3.89 109.72,-4.76\"/>\n<polygon fill=\"black\" stroke=\"black\" points=\"109.48,-8.28 119.96,-6.74 110.81,-1.41 109.48,-8.28\"/>\n<text text-anchor=\"middle\" x=\"96\" y=\"-8.8\" font-family=\"Times,serif\" font-size=\"14.00\">&#45;1</text>\n</g>\n</g>\n</svg>\n",
            "text/plain": [
              "<graphviz.sources.Source at 0x79e83d0c3d90>"
            ]
          },
          "metadata": {},
          "execution_count": 15
        }
      ],
      "source": [
        "from fastbook import *\n",
        "\n",
        "\n",
        "# Draw neurons with multiple inputs and weights\n",
        "gv('''\n",
        "z_1[shape=box3d width=1 height=0.7 label=\"b = -2, ReLU\"];\n",
        "z_2[shape=box3d width=1 height=0.7 label=\"b = -6, ReLU\"];\n",
        "z_3[shape=box3d width=1 height=0.7 label=\"b = 4, ReLU\"];\n",
        "input_1[width=1 height=0.7 label=\"4\"];\n",
        "input_2[width=1 height=0.7 label=\"-3\"];\n",
        "input_1 -> z_1 [label=\"4\"]\n",
        "input_2 -> z_1 [label=\"2\"]\n",
        "input_1 -> z_2 [label=\"0\"]\n",
        "input_2 -> z_2 [label=\"-1\"]\n",
        "\n",
        "z_1 -> z_3 [label=\"2\"]\n",
        "z_2 -> z_3 [label=\"3\"]\n",
        "z_3 ->output\n",
        "\n",
        "\n",
        "''')\n"
      ]
    },
    {
      "cell_type": "code",
      "source": [
        "import torch\n",
        "\n",
        "# Input\n",
        "input_data = torch.tensor([4, -3], dtype=torch.float32)\n",
        "\n",
        "# Layer 1\n",
        "weight_layer1 = torch.tensor([[4, 0], [2, -1]], dtype=torch.float32)\n",
        "bias_layer1 = torch.tensor([-2, -6], dtype=torch.float32)\n",
        "\n",
        "output_layer1 = torch.relu(torch.matmul(input_data, weight_layer1) + bias_layer1)\n",
        "\n",
        "# Layer 2\n",
        "weight_layer2 = torch.tensor([2, 3], dtype=torch.float32)\n",
        "bias_layer2 = torch.tensor(4, dtype=torch.float32)\n",
        "\n",
        "output_layer2 = torch.relu(torch.matmul(output_layer1, weight_layer2) + bias_layer2)\n",
        "\n",
        "# Final output\n",
        "final_output = output_layer2.item()\n",
        "\n",
        "print(\"Final Output:\", final_output)\n",
        "\n"
      ],
      "metadata": {
        "colab": {
          "base_uri": "https://localhost:8080/"
        },
        "id": "YGNg033-lLgr",
        "outputId": "c8434a5b-9b31-4e3f-eb0e-7c4186012752"
      },
      "execution_count": null,
      "outputs": [
        {
          "output_type": "stream",
          "name": "stdout",
          "text": [
            "Final Output: 20.0\n"
          ]
        }
      ]
    },
    {
      "cell_type": "code",
      "execution_count": null,
      "metadata": {
        "id": "UKT48q9uXaC2",
        "colab": {
          "base_uri": "https://localhost:8080/",
          "height": 70
        },
        "outputId": "9ef0ea26-7516-4c38-910c-d91498ecb4dc"
      },
      "outputs": [
        {
          "output_type": "stream",
          "name": "stdout",
          "text": [
            "Final Output: 20.0\n",
            "The output is 20.0\n"
          ]
        },
        {
          "output_type": "execute_result",
          "data": {
            "text/plain": [
              "'Assignment successfully submitted'"
            ],
            "application/vnd.google.colaboratory.intrinsic+json": {
              "type": "string"
            }
          },
          "metadata": {},
          "execution_count": 23
        }
      ],
      "source": [
        "# You may add any code here to derive your variables\n",
        "# Please change this\n",
        "import torch\n",
        "\n",
        "# Input\n",
        "input_data = torch.tensor([4, -3], dtype=torch.float32)\n",
        "\n",
        "# Layer 1\n",
        "weight_layer1 = torch.tensor([[4, 0], [2, -1]], dtype=torch.float32)\n",
        "bias_layer1 = torch.tensor([-2, -6], dtype=torch.float32)\n",
        "\n",
        "output_layer1 = torch.relu(torch.matmul(input_data, weight_layer1) + bias_layer1)\n",
        "\n",
        "# Layer 2\n",
        "weight_layer2 = torch.tensor([2, 3], dtype=torch.float32)\n",
        "bias_layer2 = torch.tensor(4, dtype=torch.float32)\n",
        "\n",
        "output_layer2 = torch.relu(torch.matmul(output_layer1, weight_layer2) + bias_layer2)\n",
        "\n",
        "# Final output\n",
        "output = output_layer2.item()\n",
        "#output = int(output)\n",
        "print(\"Final Output:\", output)\n",
        "\n",
        "print(f\"The output is {output}\")\n",
        "\n",
        "assignment_id = \"09-deep-learning-project\"\n",
        "question_id = \"q2_simple_neural_network\"\n",
        "submit(student_id, name, assignment_id, str(output), question_id, drive_link)\n"
      ]
    },
    {
      "cell_type": "markdown",
      "metadata": {
        "id": "g7R_LxICXaC2"
      },
      "source": [
        "\n",
        "## Task 3\n",
        "\n",
        "Given the following Neural Networks:\n",
        "\n",
        "First layer:\n",
        "\n",
        "$$\n",
        "W = \\begin{bmatrix}\n",
        "0.23 & 0.67 & 0.12 \\\\\n",
        "-0.89 & -0.45 & 0.78 \\\\\n",
        "0.34 & 0.56 & -0.90 \\\\\n",
        "-0.12 & 0.34 & 0.56 \\\\\n",
        "0.78 & -0.90 & 0.23 \\\\\n",
        "\\end{bmatrix}\n",
        "$$\n",
        "\n",
        "$$\n",
        "bias = \\begin{bmatrix}\n",
        "0.23 \\\\\n",
        "-0.89 \\\\\n",
        "0.34 \\\\\n",
        "0.12 \\\\\n",
        "-0.78 \\\\\n",
        "\\end{bmatrix}\n",
        "$$\n",
        "\n",
        "Second layer:\n",
        "\n",
        "$$\n",
        "W = \\begin{bmatrix}\n",
        "0.23 & 0.67 & 0.12 & 0.45 & 0.89 \\\\\n",
        "0.12 & 0.34 & 0.56 & 0.78 & 0.90 \\\\\n",
        "\\end{bmatrix}\n",
        "$$\n",
        "\n",
        "$$\n",
        "bias = \\begin{bmatrix}\n",
        "1.96 \\\\\n",
        "-1.08 \\\\\n",
        "\\end{bmatrix}\n",
        "$$\n",
        "\n",
        "Third layer:\n",
        "$$\n",
        "W = \\begin{bmatrix}\n",
        "1.08 & -0.16\n",
        "\\end{bmatrix}\n",
        "$$\n",
        "\n",
        "$$\n",
        "bias = \\begin{bmatrix}\n",
        "-2.8\n",
        "\\end{bmatrix}\n",
        "$$\n",
        "\n",
        "All layers use the ReLU activation function.\n",
        "\n",
        "What is the output given the following inputs?\n",
        "\n",
        "$$\n",
        "X = \\begin{bmatrix}\n",
        "1 \\\\\n",
        "2 \\\\\n",
        "4 \\\\\n",
        "\\end{bmatrix}\n",
        "\n"
      ]
    },
    {
      "cell_type": "code",
      "source": [],
      "metadata": {
        "colab": {
          "base_uri": "https://localhost:8080/"
        },
        "id": "ehIgow4L-UC-",
        "outputId": "b1fbfce0-fbae-4134-af2e-c69c78b2a8d7"
      },
      "execution_count": null,
      "outputs": [
        {
          "output_type": "stream",
          "name": "stdout",
          "text": [
            "Final Output: 1.361327886581421\n"
          ]
        }
      ]
    },
    {
      "cell_type": "code",
      "source": [
        "import torch\n",
        "\n",
        "def forward_pass(input_data, weight, bias):\n",
        "    output = torch.relu(torch.matmul(weight, input_data) + bias)\n",
        "    return output\n",
        "\n",
        "# Input data\n",
        "input_data = torch.tensor([1, 2, 4], dtype=torch.float32)\n",
        "\n",
        "# First layer\n",
        "weight_layer1 = torch.tensor([\n",
        "    [0.23, 0.67, 0.12],\n",
        "    [-0.89, -0.45, 0.78],\n",
        "    [0.34, 0.56, -0.90],\n",
        "    [-0.12, 0.34, 0.56],\n",
        "    [0.78, -0.90, 0.23]\n",
        "], dtype=torch.float32)\n",
        "bias_layer1 = torch.tensor([0.23, -0.89, 0.34, 0.12, -0.78], dtype=torch.float32)\n",
        "\n",
        "# Forward pass\n",
        "result = forward_pass(input_data, weight_layer1, bias_layer1)\n",
        "\n",
        "# Print the entire tensor\n",
        "print(\"Final Output:\", result)\n",
        "\n"
      ],
      "metadata": {
        "colab": {
          "base_uri": "https://localhost:8080/"
        },
        "id": "p3A1yxXM_rtc",
        "outputId": "249e09c6-915b-4a45-aebd-1a8bec0d5da6"
      },
      "execution_count": null,
      "outputs": [
        {
          "output_type": "stream",
          "name": "stdout",
          "text": [
            "Final Output: tensor([2.2800, 0.4400, 0.0000, 2.9200, 0.0000])\n"
          ]
        }
      ]
    },
    {
      "cell_type": "code",
      "execution_count": null,
      "metadata": {
        "id": "Vn-iBk3IXaC3",
        "colab": {
          "base_uri": "https://localhost:8080/",
          "height": 70
        },
        "outputId": "22403568-4b66-43fe-ac4e-d71d7feb3750"
      },
      "outputs": [
        {
          "output_type": "stream",
          "name": "stdout",
          "text": [
            "Final Output: 1.361327886581421\n",
            "The output is 1.361327886581421\n"
          ]
        },
        {
          "output_type": "execute_result",
          "data": {
            "text/plain": [
              "'Assignment successfully submitted'"
            ],
            "application/vnd.google.colaboratory.intrinsic+json": {
              "type": "string"
            }
          },
          "metadata": {},
          "execution_count": 37
        }
      ],
      "source": [
        "# You may add any code here to derive your variables\n",
        "\n",
        "import torch\n",
        "\n",
        "def forward_pass(input_data):\n",
        "    # First layer\n",
        "    weight_layer1 = torch.tensor([\n",
        "        [0.23, 0.67, 0.12],\n",
        "        [-0.89, -0.45, 0.78],\n",
        "        [0.34, 0.56, -0.90],\n",
        "        [-0.12, 0.34, 0.56],\n",
        "        [0.78, -0.90, 0.23]\n",
        "    ], dtype=torch.float32)\n",
        "    bias_layer1 = torch.tensor([0.23, -0.89, 0.34, 0.12, -0.78], dtype=torch.float32)\n",
        "    output_layer1 = torch.relu(torch.matmul(weight_layer1, input_data) + bias_layer1)\n",
        "\n",
        "    # Second layer\n",
        "    weight_layer2 = torch.tensor([\n",
        "        [0.23, 0.67, 0.12, 0.45, 0.89],\n",
        "        [0.12, 0.34, 0.56, 0.78, 0.90]\n",
        "    ], dtype=torch.float32)\n",
        "    bias_layer2 = torch.tensor([1.96, -1.08], dtype=torch.float32)\n",
        "    output_layer2 = torch.relu(torch.matmul(weight_layer2, output_layer1) + bias_layer2)\n",
        "\n",
        "    # Third layer\n",
        "    weight_layer3 = torch.tensor([[1.08, -0.16]], dtype=torch.float32)\n",
        "    bias_layer3 = torch.tensor([-2.8], dtype=torch.float32)\n",
        "    final_output = torch.relu(torch.matmul(weight_layer3, output_layer2) + bias_layer3)\n",
        "\n",
        "    return final_output\n",
        "# Input data\n",
        "input_data = torch.tensor([1, 2, 4], dtype=torch.float32)\n",
        "\n",
        "# Forward pass\n",
        "result = forward_pass(input_data)\n",
        "print(\"Final Output:\", result.item())\n",
        "output = result.item()\n",
        "\n",
        "\n",
        "print(f\"The output is {output}\")\n",
        "\n",
        "assignment_id = \"09-deep-learning-project\"\n",
        "question_id = \"q3_complex_neural_network\"\n",
        "submit(student_id, name, assignment_id, str(output), question_id, drive_link)\n"
      ]
    },
    {
      "cell_type": "markdown",
      "metadata": {
        "id": "1RK_XAy9XaC3"
      },
      "source": [
        "## Task 4\n",
        "\n",
        "Given [the following sheet (sheet name = Project A)](https://docs.google.com/spreadsheets/d/15JWbRFB4k5CNcfD-2hduHHssXIc1SGhNVSpu_30wVAw/edit#gid=180755192)\n",
        "\n",
        "Make a backpropagation algorithm to train the network. You can refer to AND and NOT sheet. Use sigmoid activation function for all\n",
        "\n",
        "Hint: it needs 1 layer with 1 neuron\n",
        "\n",
        "What is the cost at 10th iteration (the iteration start from 1)?"
      ]
    },
    {
      "cell_type": "code",
      "execution_count": null,
      "metadata": {
        "id": "GPwJKabAXaC5",
        "colab": {
          "base_uri": "https://localhost:8080/",
          "height": 53
        },
        "outputId": "0442f40a-cccf-43b8-b687-809bece5c9d5"
      },
      "outputs": [
        {
          "output_type": "stream",
          "name": "stdout",
          "text": [
            "The cost is 0.12\n"
          ]
        },
        {
          "output_type": "execute_result",
          "data": {
            "text/plain": [
              "'Assignment successfully submitted'"
            ],
            "application/vnd.google.colaboratory.intrinsic+json": {
              "type": "string"
            }
          },
          "metadata": {},
          "execution_count": 6
        }
      ],
      "source": [
        "# Please clone the Google Sheet and do your calculation there\n",
        "\n",
        "# Please change this\n",
        "cost = 0.12\n",
        "\n",
        "# Don't forget to fill in the link to your Google Sheet\n",
        "link_to_gsheet = \"https://docs.google.com/spreadsheets/d/1HvS48HVnczumSQFbL6q0SHPpHR2BMjmGisWXvk5bO28/edit#gid=180755192\"\n",
        "\n",
        "print(f\"The cost is {cost}\")\n",
        "\n",
        "assignment_id = \"09-deep-learning-project\"\n",
        "\n",
        "question_id = \"q4_cost_function_cost\"\n",
        "submit(student_id, name, assignment_id, str(cost), question_id)\n",
        "\n",
        "question_id = \"q4_cost_function_gsheet\"\n",
        "submit(student_id, name, assignment_id, str(link_to_gsheet), question_id, drive_link)\n"
      ]
    },
    {
      "cell_type": "code",
      "source": [
        "str(cost)"
      ],
      "metadata": {
        "colab": {
          "base_uri": "https://localhost:8080/",
          "height": 35
        },
        "id": "aRe7oURLZUDf",
        "outputId": "a39271fb-071d-4fc6-9fcc-ff16f6274cfb"
      },
      "execution_count": null,
      "outputs": [
        {
          "output_type": "execute_result",
          "data": {
            "text/plain": [
              "'0.12'"
            ],
            "application/vnd.google.colaboratory.intrinsic+json": {
              "type": "string"
            }
          },
          "metadata": {},
          "execution_count": 7
        }
      ]
    },
    {
      "cell_type": "markdown",
      "metadata": {
        "id": "Tfsng8IQXaC5"
      },
      "source": [
        "## Task 5 (BONUS - OPTIONAL)\n",
        "\n",
        "_This task is optional, it will earn you a distinction, but will not give you additional points._\n",
        "\n",
        "Given [the following sheet (sheet name = Project B)](https://docs.google.com/spreadsheets/d/15JWbRFB4k5CNcfD-2hduHHssXIc1SGhNVSpu_30wVAw/edit#gid=1029811725)\n",
        "\n",
        "Make a backpropagation algorithm to train the network. You can refer to AND and NOT sheet. Use sigmoid activation function for all\n",
        "\n",
        "Hint: it needs 2 layer (1 hidden layer + 1 output layer). The hidden layer has 2 neurons\n",
        "\n",
        "What is the cost at 10th iteration (the iteration start from 1)?"
      ]
    },
    {
      "cell_type": "code",
      "execution_count": null,
      "metadata": {
        "id": "5seZ2IDrXaC6"
      },
      "outputs": [],
      "source": [
        "# Please clone the Google Sheet and do your calculation there\n",
        "\n",
        "# Please change this\n",
        "cost = 0\n",
        "\n",
        "# Don't forget to fill in the link to your Google Sheet\n",
        "link_to_gsheet = \"\"\n",
        "\n",
        "print(f\"The cost is {cost}\")\n",
        "\n",
        "assignment_id = \"09-deep-learning-project\"\n",
        "\n",
        "question_id = \"q5_cost_function_cost\"\n",
        "submit(student_id, name, assignment_id, str(cost), question_id)\n",
        "\n",
        "question_id = \"q5_cost_function_gsheet\"\n",
        "submit(student_id, name, assignment_id, str(link_to_gsheet), question_id, drive_link)\n"
      ]
    }
  ],
  "metadata": {
    "kernelspec": {
      "display_name": "Python 3 (ipykernel)",
      "language": "python",
      "name": "python3"
    },
    "language_info": {
      "codemirror_mode": {
        "name": "ipython",
        "version": 3
      },
      "file_extension": ".py",
      "mimetype": "text/x-python",
      "name": "python",
      "nbconvert_exporter": "python",
      "pygments_lexer": "ipython3",
      "version": "3.11.3"
    },
    "colab": {
      "provenance": [],
      "include_colab_link": true
    }
  },
  "nbformat": 4,
  "nbformat_minor": 0
}
