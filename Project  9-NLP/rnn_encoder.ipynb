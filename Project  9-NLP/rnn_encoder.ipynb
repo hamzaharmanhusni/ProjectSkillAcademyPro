{
  "cells": [
    {
      "cell_type": "markdown",
      "metadata": {
        "id": "view-in-github",
        "colab_type": "text"
      },
      "source": [
        "<a href=\"https://colab.research.google.com/github/hamzaharmanhusni/ProjectSkillAcademyPro/blob/main/Salinan_dari_rnn_encoder.ipynb\" target=\"_parent\"><img src=\"https://colab.research.google.com/assets/colab-badge.svg\" alt=\"Open In Colab\"/></a>"
      ]
    },
    {
      "cell_type": "markdown",
      "metadata": {
        "id": "ulMT4kRlMTiT"
      },
      "source": [
        "# RNN Encoder"
      ]
    },
    {
      "cell_type": "markdown",
      "metadata": {
        "id": "MNYKyqi-MTiV"
      },
      "source": [
        "**Instructions for Students:**\n",
        "\n",
        "Please carefully follow these steps to complete and submit your project:\n",
        "\n",
        "1. **Copy the Provided Google Sheets File**: Make a copy of the provided [Encoder RNN base Google Sheets file](https://docs.google.com/spreadsheets/d/1qhbYFykF0T9QwpywUIJ5p-VnlwZUhxq9P_GrJY2lZE0/edit?usp=sharing). This copied file will serve as the repository for all your completed project files.\n",
        "2. **Sharing Sheets Link**: Share the link to your project's copied Google Sheets file. This is crucial for the submission and evaluation of your project.\n",
        "3. **Setting Permission to Public**: Ensure your copied Google Sheets file is set to public. This allows your instructor to access your solutions and assess your work correctly."
      ]
    },
    {
      "cell_type": "markdown",
      "metadata": {
        "id": "JQSc7AUtMTiW"
      },
      "source": [
        "## Student Identity"
      ]
    },
    {
      "cell_type": "code",
      "execution_count": null,
      "metadata": {
        "id": "-MRGPOQYMTiW"
      },
      "outputs": [],
      "source": [
        "# @title #### Student Identity\n",
        "student_id = \"REAJGDG4\" # @param {type:\"string\"}\n",
        "name = \"Hamzah Arman Husni\" # @param {type:\"string\"}\n",
        "# Don't forget to fill in the link to your Google Sheet\n",
        "link_to_gsheet = \"https://docs.google.com/spreadsheets/d/1qlPYIeXLIncq08guPfcfD6sphUOL53-4459BYna4lRM/edit#gid=1204141015\"  # @param {type:\"string\"}"
      ]
    },
    {
      "cell_type": "markdown",
      "metadata": {
        "id": "z4g8oVSPMTiX"
      },
      "source": [
        "## Import package"
      ]
    },
    {
      "cell_type": "code",
      "execution_count": null,
      "metadata": {
        "id": "s2eCrjqLMTiX",
        "colab": {
          "base_uri": "https://localhost:8080/"
        },
        "outputId": "979f1ac9-936b-4ef9-f987-3d9216ee8221"
      },
      "outputs": [
        {
          "output_type": "stream",
          "name": "stdout",
          "text": [
            "Collecting rggrader\n",
            "  Downloading rggrader-0.1.6-py3-none-any.whl (2.5 kB)\n",
            "Requirement already satisfied: requests in /usr/local/lib/python3.10/dist-packages (from rggrader) (2.31.0)\n",
            "Requirement already satisfied: pandas in /usr/local/lib/python3.10/dist-packages (from rggrader) (1.5.3)\n",
            "Requirement already satisfied: Pillow in /usr/local/lib/python3.10/dist-packages (from rggrader) (9.4.0)\n",
            "Requirement already satisfied: python-dateutil>=2.8.1 in /usr/local/lib/python3.10/dist-packages (from pandas->rggrader) (2.8.2)\n",
            "Requirement already satisfied: pytz>=2020.1 in /usr/local/lib/python3.10/dist-packages (from pandas->rggrader) (2023.4)\n",
            "Requirement already satisfied: numpy>=1.21.0 in /usr/local/lib/python3.10/dist-packages (from pandas->rggrader) (1.25.2)\n",
            "Requirement already satisfied: charset-normalizer<4,>=2 in /usr/local/lib/python3.10/dist-packages (from requests->rggrader) (3.3.2)\n",
            "Requirement already satisfied: idna<4,>=2.5 in /usr/local/lib/python3.10/dist-packages (from requests->rggrader) (3.6)\n",
            "Requirement already satisfied: urllib3<3,>=1.21.1 in /usr/local/lib/python3.10/dist-packages (from requests->rggrader) (2.0.7)\n",
            "Requirement already satisfied: certifi>=2017.4.17 in /usr/local/lib/python3.10/dist-packages (from requests->rggrader) (2024.2.2)\n",
            "Requirement already satisfied: six>=1.5 in /usr/local/lib/python3.10/dist-packages (from python-dateutil>=2.8.1->pandas->rggrader) (1.16.0)\n",
            "Installing collected packages: rggrader\n",
            "Successfully installed rggrader-0.1.6\n"
          ]
        }
      ],
      "source": [
        "!pip install rggrader\n",
        "from rggrader import submit"
      ]
    },
    {
      "cell_type": "markdown",
      "metadata": {
        "id": "q1uKxuChMTiY"
      },
      "source": [
        "## Encoder RNN Project 1"
      ]
    },
    {
      "cell_type": "markdown",
      "metadata": {
        "id": "4vjDZA1VMTiY"
      },
      "source": [
        "Your task is to modify the network to process a new sentence. Please use the following sentence for your task: **\"aku suka coklat\"**.\n",
        "\n",
        "Submit the **cell calculation -> tanh** _(3rd timestep)_  for the \"since_bos\", \"since_likeness\", \"likeness\", \"since_beverages\" and \"beverages\" feature.\n",
        "\n",
        "> **Notes**: Do not change the values of the sheet \"Weights and bias\" and \"Encoder embedding\"!\n"
      ]
    },
    {
      "cell_type": "code",
      "execution_count": null,
      "metadata": {
        "id": "Y-Za2RO1MTiY",
        "colab": {
          "base_uri": "https://localhost:8080/",
          "height": 122
        },
        "outputId": "11094ed3-e91b-4864-c367-86606bd9ac0d"
      },
      "outputs": [
        {
          "output_type": "stream",
          "name": "stdout",
          "text": [
            "The final hidden_state for 'since_bos' is 0\n",
            "The final hidden_state for 'since_likeness' is 0\n",
            "The final hidden_state for 'likeness' is 0.09933927643\n",
            "The final hidden_state for 'since_beverages' is 0\n",
            "The final hidden_state for 'beverages' is 0.9999092043\n"
          ]
        },
        {
          "output_type": "execute_result",
          "data": {
            "text/plain": [
              "'Assignment successfully submitted'"
            ],
            "application/vnd.google.colaboratory.intrinsic+json": {
              "type": "string"
            }
          },
          "metadata": {},
          "execution_count": 3
        }
      ],
      "source": [
        "# Please clone the Google Sheet and do your calculation there\n",
        "\n",
        "# Please change this\n",
        "final_hidden_state_since_bos = 0\n",
        "final_hidden_state_since_likeness = 0\n",
        "final_hidden_state_likeness = 0.09933927643\n",
        "final_hidden_state_since_beverages = 0\n",
        "final_hidden_state_beverages = 0.9999092043\n",
        "\n",
        "print(f\"The final hidden_state for 'since_bos' is {final_hidden_state_since_bos}\")\n",
        "print(f\"The final hidden_state for 'since_likeness' is {final_hidden_state_since_likeness}\")\n",
        "print(f\"The final hidden_state for 'likeness' is {final_hidden_state_likeness}\")\n",
        "print(f\"The final hidden_state for 'since_beverages' is {final_hidden_state_since_beverages}\")\n",
        "print(f\"The final hidden_state for 'beverages' is {final_hidden_state_beverages}\")\n",
        "\n",
        "assignment_id = \"00-encoder-rnn-project-1\"\n",
        "submit(student_id, name, assignment_id, str(final_hidden_state_since_bos), \"q1_final_hidden_state_since_bos\", link_to_gsheet)\n",
        "submit(student_id, name, assignment_id, str(final_hidden_state_since_likeness), \"q1_final_hidden_state_since_likeness\", link_to_gsheet)\n",
        "submit(student_id, name, assignment_id, str(final_hidden_state_likeness), \"q1_final_hidden_state_likeness\", link_to_gsheet)\n",
        "submit(student_id, name, assignment_id, str(final_hidden_state_since_beverages), \"q1_final_hidden_state_since_beverages\", link_to_gsheet)\n",
        "submit(student_id, name, assignment_id, str(final_hidden_state_beverages), \"q1_final_hidden_state_beverages\", link_to_gsheet)"
      ]
    },
    {
      "cell_type": "markdown",
      "metadata": {
        "id": "0cTgW-BKMTiY"
      },
      "source": [
        "## Encoder RNN Project 2"
      ]
    },
    {
      "cell_type": "markdown",
      "metadata": {
        "id": "j5VK6DU_MTiZ"
      },
      "source": [
        "Your task is to modify the network and the encoding scheme to process the following sentence: **\"aku tidak suka apel\"**.\n",
        "\n",
        "Please follow the steps below:\n",
        "\n",
        "1. Add a new feature \"fruits\" to the network in the 'Weights and bias' sheet. Set the corresponding weights for each word as follows:\n",
        "   - aku: 0 (Because \"aku\" is not a fruit)\n",
        "   - suka: 0 (Because \"suka\" is not a fruit)\n",
        "   - tidak: 0 (Because \"tidak\" is not a fruit)\n",
        "   - coklat: 0 (Because \"coklat\" is not a fruit)\n",
        "   - jus: 0 (Because \"jus\" is not a fruit)\n",
        "   - apel: 5 (Because \"apel\" is a fruit)\n",
        "   - jeruk: -5 (Because \"jeruk\" is a fruit)\n",
        "\n",
        "   Add new feature \"since_fruits\" with 0 in all words.\n",
        "\n",
        "2. Update the weights for all features for the word \"apel\" and \"jeruk\" as follows:\n",
        "   - \"since_bos\": 0\n",
        "   - \"since_likeness\": 0\n",
        "   - \"likeness\": 0 (Because there is no statement of likeness or dislike associated with \"apel\" and \"jeruk\" in this sentence)\n",
        "   - \"since_beverage\": 0\n",
        "   - \"beverage\": 0 (Because \"apel\" and \"jeruk\" are not beverages)\n",
        "\n",
        "3. On the 'Encoder embedding' sheet, add the one-hot encoded vectors for `[0, 0, 0, 0, 0, 1, 0]` for \"apel\" and `[0, 0, 0, 0, 0, 0, 1]` for \"jeruk\"\n",
        "\n",
        "4. Calculate the hidden states and the corresponding tanh calculations for each timestep.\n",
        "\n",
        "Submit the **cell calculation -> tanh** _(4th timestep)_ for the \"since_bos\", \"since_likeness\", \"likeness\", \"since_beverages\", \"beverages\", \"since_fruits\" and \"fruits\" features."
      ]
    },
    {
      "cell_type": "code",
      "execution_count": null,
      "metadata": {
        "id": "EuuhoECuMTiZ",
        "colab": {
          "base_uri": "https://localhost:8080/",
          "height": 157
        },
        "outputId": "2f2d0317-029d-4c5b-cc6d-3e54363a4aa8"
      },
      "outputs": [
        {
          "output_type": "stream",
          "name": "stdout",
          "text": [
            "The final hidden_state for 'since_bos' is 0\n",
            "The final hidden_state for 'since_likeness' is 0\n",
            "The final hidden_state for 'likeness' is -0.6145833677\n",
            "The final hidden_state for 'since_beverages' is 0\n",
            "The final hidden_state for 'beverages' is 0\n",
            "The final hidden_state for 'since_fruits' is 0\n",
            "The final hidden_state for 'fruits' is 0.9999092043\n"
          ]
        },
        {
          "output_type": "execute_result",
          "data": {
            "text/plain": [
              "'Assignment successfully submitted'"
            ],
            "application/vnd.google.colaboratory.intrinsic+json": {
              "type": "string"
            }
          },
          "metadata": {},
          "execution_count": 5
        }
      ],
      "source": [
        "# Please clone the Google Sheet and do your calculation there\n",
        "\n",
        "# Please change these\n",
        "final_hidden_state_since_bos = 0\n",
        "final_hidden_state_since_likeness = 0\n",
        "final_hidden_state_likeness = -0.6145833677\n",
        "final_hidden_state_since_beverages = 0\n",
        "final_hidden_state_beverages =0\n",
        "final_hidden_state_since_fruits = 0\n",
        "final_hidden_state_fruits = 0.9999092043\n",
        "\n",
        "print(f\"The final hidden_state for 'since_bos' is {final_hidden_state_since_bos}\")\n",
        "print(f\"The final hidden_state for 'since_likeness' is {final_hidden_state_since_likeness}\")\n",
        "print(f\"The final hidden_state for 'likeness' is {final_hidden_state_likeness}\")\n",
        "print(f\"The final hidden_state for 'since_beverages' is {final_hidden_state_since_beverages}\")\n",
        "print(f\"The final hidden_state for 'beverages' is {final_hidden_state_beverages}\")\n",
        "print(f\"The final hidden_state for 'since_fruits' is {final_hidden_state_since_fruits}\")\n",
        "print(f\"The final hidden_state for 'fruits' is {final_hidden_state_fruits}\")\n",
        "\n",
        "assignment_id = \"01-encoder-rnn-project-2\"\n",
        "submit(student_id, name, assignment_id, str(final_hidden_state_since_bos), \"q2_final_hidden_state_since_bos\", link_to_gsheet)\n",
        "submit(student_id, name, assignment_id, str(final_hidden_state_since_likeness), \"q2_final_hidden_state_since_likeness\", link_to_gsheet)\n",
        "submit(student_id, name, assignment_id, str(final_hidden_state_likeness), \"q2_final_hidden_state_likeness\", link_to_gsheet)\n",
        "submit(student_id, name, assignment_id, str(final_hidden_state_since_beverages), \"q2_final_hidden_state_since_beverages\", link_to_gsheet)\n",
        "submit(student_id, name, assignment_id, str(final_hidden_state_beverages), \"q2_final_hidden_state_beverages\", link_to_gsheet)\n",
        "submit(student_id, name, assignment_id, str(final_hidden_state_since_fruits), \"q2_final_hidden_state_since_fruits\", link_to_gsheet)\n",
        "submit(student_id, name, assignment_id, str(final_hidden_state_fruits), \"q2_final_hidden_state_fruits\", link_to_gsheet)"
      ]
    }
  ],
  "metadata": {
    "kernelspec": {
      "display_name": "Python 3",
      "language": "python",
      "name": "python3"
    },
    "language_info": {
      "codemirror_mode": {
        "name": "ipython",
        "version": 3
      },
      "file_extension": ".py",
      "mimetype": "text/x-python",
      "name": "python",
      "nbconvert_exporter": "python",
      "pygments_lexer": "ipython3",
      "version": "3.11.3"
    },
    "orig_nbformat": 4,
    "colab": {
      "provenance": [],
      "include_colab_link": true
    }
  },
  "nbformat": 4,
  "nbformat_minor": 0
}
