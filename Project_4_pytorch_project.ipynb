{
  "cells": [
    {
      "cell_type": "markdown",
      "metadata": {
        "id": "view-in-github",
        "colab_type": "text"
      },
      "source": [
        "<a href=\"https://colab.research.google.com/github/hamzaharmanhusni/ProjectSkillAcademyPro/blob/main/Project_4_pytorch_project.ipynb\" target=\"_parent\"><img src=\"https://colab.research.google.com/assets/colab-badge.svg\" alt=\"Open In Colab\"/></a>"
      ]
    },
    {
      "cell_type": "markdown",
      "id": "def8e46c-7606-4991-9b29-9223ccacd54b",
      "metadata": {
        "id": "def8e46c-7606-4991-9b29-9223ccacd54b"
      },
      "source": [
        "# Project: Pytorch"
      ]
    },
    {
      "cell_type": "markdown",
      "id": "911a145c-7d01-4210-9699-0e1fef80ff19",
      "metadata": {
        "id": "911a145c-7d01-4210-9699-0e1fef80ff19"
      },
      "source": [
        "**Instructions for Students:**\n",
        "\n",
        "Please carefully follow these steps to complete and submit your project:\n",
        "\n",
        "1. **Completing the Project**: You are required to work on and complete all tasks in the provided project. Be disciplined and ensure that you thoroughly engage with each task.\n",
        "   \n",
        "2. **Creating a Google Drive Folder**: Each of you must create a new folder on your Google Drive if you haven't already. This will be the repository for all your completed assignment and project files, aiding you in keeping your work organized and accessible.\n",
        "   \n",
        "3. **Uploading Completed Project**: Upon completion of your project, make sure to upload all necessary files, involving codes, reports, and related documents into the created Google Drive folder. Save this link in the 'Student Identity' section and also provide it as the last parameter in the `submit` function that has been provided.\n",
        "   \n",
        "4. **Sharing Folder Link**: You're required to share the link to your project Google Drive folder. This is crucial for the submission and evaluation of your project.\n",
        "   \n",
        "5. **Setting Permission toPublic**: Please make sure your Google Drive folder is set to public. This allows your instructor to access your solutions and assess your work correctly.\n",
        "\n",
        "Adhering to these procedures will facilitate a smooth project evaluation process for you and the reviewers."
      ]
    },
    {
      "cell_type": "markdown",
      "id": "8018f21d-d661-4ae4-a50d-9fb66feb291d",
      "metadata": {
        "id": "8018f21d-d661-4ae4-a50d-9fb66feb291d"
      },
      "source": [
        "## Student Identity"
      ]
    },
    {
      "cell_type": "code",
      "execution_count": null,
      "id": "9fc57472-0432-474a-b1f7-c825edfc007a",
      "metadata": {
        "id": "9fc57472-0432-474a-b1f7-c825edfc007a",
        "colab": {
          "base_uri": "https://localhost:8080/"
        },
        "outputId": "870da36f-a591-4e3f-e714-bbf91c37691c"
      },
      "outputs": [
        {
          "output_type": "stream",
          "name": "stdout",
          "text": [
            "Collecting rggrader\n",
            "  Downloading rggrader-0.1.6-py3-none-any.whl (2.5 kB)\n",
            "Requirement already satisfied: requests in /usr/local/lib/python3.10/dist-packages (from rggrader) (2.31.0)\n",
            "Requirement already satisfied: pandas in /usr/local/lib/python3.10/dist-packages (from rggrader) (1.5.3)\n",
            "Requirement already satisfied: Pillow in /usr/local/lib/python3.10/dist-packages (from rggrader) (9.4.0)\n",
            "Requirement already satisfied: python-dateutil>=2.8.1 in /usr/local/lib/python3.10/dist-packages (from pandas->rggrader) (2.8.2)\n",
            "Requirement already satisfied: pytz>=2020.1 in /usr/local/lib/python3.10/dist-packages (from pandas->rggrader) (2023.4)\n",
            "Requirement already satisfied: numpy>=1.21.0 in /usr/local/lib/python3.10/dist-packages (from pandas->rggrader) (1.23.5)\n",
            "Requirement already satisfied: charset-normalizer<4,>=2 in /usr/local/lib/python3.10/dist-packages (from requests->rggrader) (3.3.2)\n",
            "Requirement already satisfied: idna<4,>=2.5 in /usr/local/lib/python3.10/dist-packages (from requests->rggrader) (3.6)\n",
            "Requirement already satisfied: urllib3<3,>=1.21.1 in /usr/local/lib/python3.10/dist-packages (from requests->rggrader) (2.0.7)\n",
            "Requirement already satisfied: certifi>=2017.4.17 in /usr/local/lib/python3.10/dist-packages (from requests->rggrader) (2023.11.17)\n",
            "Requirement already satisfied: six>=1.5 in /usr/local/lib/python3.10/dist-packages (from python-dateutil>=2.8.1->pandas->rggrader) (1.16.0)\n",
            "Installing collected packages: rggrader\n",
            "Successfully installed rggrader-0.1.6\n"
          ]
        }
      ],
      "source": [
        "# @title #### Student Identity\n",
        "student_id = \"REAJGDG4\" # @param {type:\"string\"}\n",
        "name = \"Hamzah Arman Husni\" # @param {type:\"string\"}\n",
        "drive_link = \"https://colab.research.google.com/drive/1qTA9gjcEDDLPoCvbF8LGIKB6Ug0N3b8s#scrollTo=9fc57472-0432-474a-b1f7-c825edfc007a\"  # @param {type:\"string\"}\n",
        "\n",
        "assignment_id = \"00_pytorch_project\"\n",
        "\n",
        "# Import grader package\n",
        "!pip install rggrader\n",
        "from rggrader import submit, submit_image"
      ]
    },
    {
      "cell_type": "markdown",
      "id": "d3b9e0f7-75d2-476a-9b29-07c1a3800925",
      "metadata": {
        "id": "d3b9e0f7-75d2-476a-9b29-07c1a3800925"
      },
      "source": [
        "## Project Description\n",
        "\n",
        "In this project, you will use what you learn to create your own Deep Learning model. We'll use a variety of datasets, each with different data types such as images, text, and numerical/categorical data. Your task is to choose one of these datasets and build a deep learning model upon it.\n"
      ]
    },
    {
      "cell_type": "markdown",
      "id": "d333f8fe-3ae6-4060-b597-e9f7d9e37582",
      "metadata": {
        "id": "d333f8fe-3ae6-4060-b597-e9f7d9e37582"
      },
      "source": [
        "## Datasets\n",
        "\n",
        "Choose one from the following datasets for your project:\n",
        "\n",
        "1. **Digits Dataset**: A simplified version of MNIST containing 8x8 images of hand-written digits. [Dataset Link](https://scikit-learn.org/stable/auto_examples/datasets/plot_digits_last_image.html)\n",
        "2. **Dogs vs. Cats Dataset from Kaggle**: A sizable dataset of 25,000 images with equal representation of dogs and cats. [Dataset Link](https://www.kaggle.com/c/dogs-vs-cats)\n",
        "3. **Breast Cancer Wisconsin (Diagnostic) Dataset**: Computed features from a digitized image of a fine needle aspirate (FNA) of a breast mass. [Dataset Link](https://archive.ics.uci.edu/ml/datasets/Breast+Cancer+Wisconsin+%28Diagnostic%29)\n",
        "4. **Spam Text Message Classification Dataset**: A collection of labeled SMS messages, categorized as \"spam\" or \"ham\". [Dataset Link](https://www.kaggle.com/uciml/sms-spam-collection-dataset)\n",
        "5. **German Credit Risk Dataset**: People's data categorized by various attributes to predict credit risk. [Dataset Link](https://archive.ics.uci.edu/ml/datasets/Statlog+%28German+Credit+Data%29)\n"
      ]
    },
    {
      "cell_type": "markdown",
      "id": "84fea308-2c09-472c-a5ec-e4ba0900d496",
      "metadata": {
        "id": "84fea308-2c09-472c-a5ec-e4ba0900d496"
      },
      "source": [
        "\n",
        "## Grading Scheme\n",
        "\n",
        "Your work will be evaluated based on both accuracy and loss value:\n",
        "\n",
        "100: The model has an accuracy of more than 80% and a Loss Value of less than 0.2. This model is excellent and demonstrates a strong understanding of the task.\n",
        "\n",
        "90: The model has an accuracy between 70% - 79% and a Loss Value between 0.2 - 0.3. This model is very good, with some room for improvement.\n",
        "\n",
        "80: The model has an accuracy between 60% - 69% and a Loss Value between 0.3 - 0.4. This model is fairly good but needs improvement in balancing accuracy and loss value.\n",
        "\n",
        "70: The model has an accuracy between 50% - 59% and a Loss Value between 0.4 - 0.5. This model is below average and needs significant improvement.\n",
        "\n",
        "60 or below: The model has an accuracy of less than 50% or a Loss Value of more than 0.5, or the student did not submit the accuracy and Loss Value. This model is poor and needs considerable improvement."
      ]
    },
    {
      "cell_type": "markdown",
      "id": "915df21b-3a7e-444a-999d-c830acdbe7f2",
      "metadata": {
        "id": "915df21b-3a7e-444a-999d-c830acdbe7f2"
      },
      "source": [
        "Rmember to make a copy of this notebook in your Google Drive and work in your own copy.\n",
        "\n",
        "Let's start your deep learning journey! Choose your dataset and delve into the project! Happy modeling!"
      ]
    },
    {
      "cell_type": "markdown",
      "id": "e0b68327-fc7b-43de-9f16-b058d11d775b",
      "metadata": {
        "id": "e0b68327-fc7b-43de-9f16-b058d11d775b"
      },
      "source": [
        "## Project Structure\n",
        "\n",
        "Your project should be organized into five main sections."
      ]
    },
    {
      "cell_type": "markdown",
      "id": "25ecc459-5019-42d8-84a6-8644cecafef3",
      "metadata": {
        "id": "25ecc459-5019-42d8-84a6-8644cecafef3"
      },
      "source": [
        "### 1. Package and Module Installation\n",
        "\n",
        "First, let's pool all package and module that you'll need in the installation section below."
      ]
    },
    {
      "cell_type": "code",
      "execution_count": null,
      "id": "62606ca1-5868-4c65-93ef-1d6ee8d8d59a",
      "metadata": {
        "id": "62606ca1-5868-4c65-93ef-1d6ee8d8d59a",
        "colab": {
          "base_uri": "https://localhost:8080/"
        },
        "outputId": "c8cd325b-dd12-4797-919f-74600614c7a0"
      },
      "outputs": [
        {
          "output_type": "stream",
          "name": "stdout",
          "text": [
            "Collecting ucimlrepo\n",
            "  Downloading ucimlrepo-0.0.3-py3-none-any.whl (7.0 kB)\n",
            "Installing collected packages: ucimlrepo\n",
            "Successfully installed ucimlrepo-0.0.3\n"
          ]
        }
      ],
      "source": [
        "# Write any package/module installation that you need\n",
        "# pip install goes here, this helps declutter your output below\n",
        "\n",
        "!pip install ucimlrepo\n",
        "import torch\n",
        "import torch.nn as nn\n",
        "import torch.optim as optim\n",
        "import numpy as np\n",
        "import pandas as pd\n",
        "from sklearn.preprocessing import StandardScaler"
      ]
    },
    {
      "cell_type": "markdown",
      "id": "b0837717-de95-4193-9898-e2f4cadfcfc6",
      "metadata": {
        "id": "b0837717-de95-4193-9898-e2f4cadfcfc6"
      },
      "source": [
        "### 2. Data Loading and Preprocessing\n",
        "\n",
        "Load the chosen dataset and preprocess it for deep learning."
      ]
    },
    {
      "cell_type": "code",
      "execution_count": null,
      "id": "3b0e5e58-277e-41ef-9b1c-951e5d150191",
      "metadata": {
        "id": "3b0e5e58-277e-41ef-9b1c-951e5d150191",
        "colab": {
          "base_uri": "https://localhost:8080/"
        },
        "outputId": "17859d58-1a76-4d24-d9bf-056524a59ab3"
      },
      "outputs": [
        {
          "output_type": "stream",
          "name": "stdout",
          "text": [
            "{'uci_id': 17, 'name': 'Breast Cancer Wisconsin (Diagnostic)', 'repository_url': 'https://archive.ics.uci.edu/dataset/17/breast+cancer+wisconsin+diagnostic', 'data_url': 'https://archive.ics.uci.edu/static/public/17/data.csv', 'abstract': 'Diagnostic Wisconsin Breast Cancer Database.', 'area': 'Health and Medicine', 'tasks': ['Classification'], 'characteristics': ['Multivariate'], 'num_instances': 569, 'num_features': 30, 'feature_types': ['Real'], 'demographics': [], 'target_col': ['Diagnosis'], 'index_col': ['ID'], 'has_missing_values': 'no', 'missing_values_symbol': None, 'year_of_dataset_creation': 1993, 'last_updated': 'Fri Nov 03 2023', 'dataset_doi': '10.24432/C5DW2B', 'creators': ['William Wolberg', 'Olvi Mangasarian', 'Nick Street', 'W. Street'], 'intro_paper': {'title': 'Nuclear feature extraction for breast tumor diagnosis', 'authors': 'W. Street, W. Wolberg, O. Mangasarian', 'published_in': 'Electronic imaging', 'year': 1993, 'url': 'https://www.semanticscholar.org/paper/53f0fbb425bc14468eb3bf96b2e1d41ba8087f36', 'doi': '10.1117/12.148698'}, 'additional_info': {'summary': 'Features are computed from a digitized image of a fine needle aspirate (FNA) of a breast mass.  They describe characteristics of the cell nuclei present in the image. A few of the images can be found at http://www.cs.wisc.edu/~street/images/\\r\\n\\r\\nSeparating plane described above was obtained using Multisurface Method-Tree (MSM-T) [K. P. Bennett, \"Decision Tree Construction Via Linear Programming.\" Proceedings of the 4th Midwest Artificial Intelligence and Cognitive Science Society, pp. 97-101, 1992], a classification method which uses linear programming to construct a decision tree.  Relevant features were selected using an exhaustive search in the space of 1-4 features and 1-3 separating planes.\\r\\n\\r\\nThe actual linear program used to obtain the separating plane in the 3-dimensional space is that described in: [K. P. Bennett and O. L. Mangasarian: \"Robust Linear Programming Discrimination of Two Linearly Inseparable Sets\", Optimization Methods and Software 1, 1992, 23-34].\\r\\n\\r\\nThis database is also available through the UW CS ftp server:\\r\\nftp ftp.cs.wisc.edu\\r\\ncd math-prog/cpo-dataset/machine-learn/WDBC/', 'purpose': None, 'funded_by': None, 'instances_represent': None, 'recommended_data_splits': None, 'sensitive_data': None, 'preprocessing_description': None, 'variable_info': '1) ID number\\r\\n2) Diagnosis (M = malignant, B = benign)\\r\\n3-32)\\r\\n\\r\\nTen real-valued features are computed for each cell nucleus:\\r\\n\\r\\n\\ta) radius (mean of distances from center to points on the perimeter)\\r\\n\\tb) texture (standard deviation of gray-scale values)\\r\\n\\tc) perimeter\\r\\n\\td) area\\r\\n\\te) smoothness (local variation in radius lengths)\\r\\n\\tf) compactness (perimeter^2 / area - 1.0)\\r\\n\\tg) concavity (severity of concave portions of the contour)\\r\\n\\th) concave points (number of concave portions of the contour)\\r\\n\\ti) symmetry \\r\\n\\tj) fractal dimension (\"coastline approximation\" - 1)', 'citation': None}}\n",
            "                  name     role         type demographic description units  \\\n",
            "0                   ID       ID  Categorical        None        None  None   \n",
            "1            Diagnosis   Target  Categorical        None        None  None   \n",
            "2              radius1  Feature   Continuous        None        None  None   \n",
            "3             texture1  Feature   Continuous        None        None  None   \n",
            "4           perimeter1  Feature   Continuous        None        None  None   \n",
            "5                area1  Feature   Continuous        None        None  None   \n",
            "6          smoothness1  Feature   Continuous        None        None  None   \n",
            "7         compactness1  Feature   Continuous        None        None  None   \n",
            "8           concavity1  Feature   Continuous        None        None  None   \n",
            "9      concave_points1  Feature   Continuous        None        None  None   \n",
            "10           symmetry1  Feature   Continuous        None        None  None   \n",
            "11  fractal_dimension1  Feature   Continuous        None        None  None   \n",
            "12             radius2  Feature   Continuous        None        None  None   \n",
            "13            texture2  Feature   Continuous        None        None  None   \n",
            "14          perimeter2  Feature   Continuous        None        None  None   \n",
            "15               area2  Feature   Continuous        None        None  None   \n",
            "16         smoothness2  Feature   Continuous        None        None  None   \n",
            "17        compactness2  Feature   Continuous        None        None  None   \n",
            "18          concavity2  Feature   Continuous        None        None  None   \n",
            "19     concave_points2  Feature   Continuous        None        None  None   \n",
            "20           symmetry2  Feature   Continuous        None        None  None   \n",
            "21  fractal_dimension2  Feature   Continuous        None        None  None   \n",
            "22             radius3  Feature   Continuous        None        None  None   \n",
            "23            texture3  Feature   Continuous        None        None  None   \n",
            "24          perimeter3  Feature   Continuous        None        None  None   \n",
            "25               area3  Feature   Continuous        None        None  None   \n",
            "26         smoothness3  Feature   Continuous        None        None  None   \n",
            "27        compactness3  Feature   Continuous        None        None  None   \n",
            "28          concavity3  Feature   Continuous        None        None  None   \n",
            "29     concave_points3  Feature   Continuous        None        None  None   \n",
            "30           symmetry3  Feature   Continuous        None        None  None   \n",
            "31  fractal_dimension3  Feature   Continuous        None        None  None   \n",
            "\n",
            "   missing_values  \n",
            "0              no  \n",
            "1              no  \n",
            "2              no  \n",
            "3              no  \n",
            "4              no  \n",
            "5              no  \n",
            "6              no  \n",
            "7              no  \n",
            "8              no  \n",
            "9              no  \n",
            "10             no  \n",
            "11             no  \n",
            "12             no  \n",
            "13             no  \n",
            "14             no  \n",
            "15             no  \n",
            "16             no  \n",
            "17             no  \n",
            "18             no  \n",
            "19             no  \n",
            "20             no  \n",
            "21             no  \n",
            "22             no  \n",
            "23             no  \n",
            "24             no  \n",
            "25             no  \n",
            "26             no  \n",
            "27             no  \n",
            "28             no  \n",
            "29             no  \n",
            "30             no  \n",
            "31             no  \n"
          ]
        }
      ],
      "source": [
        "# Write your preprocessing here\n",
        "\n",
        "# Load your data\n",
        "from ucimlrepo import fetch_ucirepo\n",
        "\n",
        "# fetch dataset\n",
        "breast_cancer_wisconsin_diagnostic = fetch_ucirepo(id=17)\n",
        "\n",
        "# data (as pandas dataframes)\n",
        "X = breast_cancer_wisconsin_diagnostic.data.features\n",
        "y = breast_cancer_wisconsin_diagnostic.data.targets\n",
        "\n",
        "# metadata\n",
        "print(breast_cancer_wisconsin_diagnostic.metadata)\n",
        "\n",
        "# variable information\n",
        "print(breast_cancer_wisconsin_diagnostic.variables)\n",
        "\n"
      ]
    },
    {
      "cell_type": "code",
      "source": [
        "X.isnull().sum(), y.isnull().sum()"
      ],
      "metadata": {
        "colab": {
          "base_uri": "https://localhost:8080/"
        },
        "id": "bp5yKg6Yp16A",
        "outputId": "19466729-979b-4144-bdc2-4585e6d6c936"
      },
      "id": "bp5yKg6Yp16A",
      "execution_count": null,
      "outputs": [
        {
          "output_type": "execute_result",
          "data": {
            "text/plain": [
              "(radius1               0\n",
              " texture1              0\n",
              " perimeter1            0\n",
              " area1                 0\n",
              " smoothness1           0\n",
              " compactness1          0\n",
              " concavity1            0\n",
              " concave_points1       0\n",
              " symmetry1             0\n",
              " fractal_dimension1    0\n",
              " radius2               0\n",
              " texture2              0\n",
              " perimeter2            0\n",
              " area2                 0\n",
              " smoothness2           0\n",
              " compactness2          0\n",
              " concavity2            0\n",
              " concave_points2       0\n",
              " symmetry2             0\n",
              " fractal_dimension2    0\n",
              " radius3               0\n",
              " texture3              0\n",
              " perimeter3            0\n",
              " area3                 0\n",
              " smoothness3           0\n",
              " compactness3          0\n",
              " concavity3            0\n",
              " concave_points3       0\n",
              " symmetry3             0\n",
              " fractal_dimension3    0\n",
              " dtype: int64,\n",
              " Diagnosis    0\n",
              " dtype: int64)"
            ]
          },
          "metadata": {},
          "execution_count": 3
        }
      ]
    },
    {
      "cell_type": "code",
      "source": [
        "y.value_counts(), X"
      ],
      "metadata": {
        "colab": {
          "base_uri": "https://localhost:8080/"
        },
        "id": "GP_neUrK_5dk",
        "outputId": "f13120c2-124a-4a47-dd34-a5d41133d59a"
      },
      "id": "GP_neUrK_5dk",
      "execution_count": null,
      "outputs": [
        {
          "output_type": "execute_result",
          "data": {
            "text/plain": [
              "(Diagnosis\n",
              " B            357\n",
              " M            212\n",
              " dtype: int64,\n",
              "      radius1  texture1  perimeter1   area1  smoothness1  compactness1  \\\n",
              " 0      17.99     10.38      122.80  1001.0      0.11840       0.27760   \n",
              " 1      20.57     17.77      132.90  1326.0      0.08474       0.07864   \n",
              " 2      19.69     21.25      130.00  1203.0      0.10960       0.15990   \n",
              " 3      11.42     20.38       77.58   386.1      0.14250       0.28390   \n",
              " 4      20.29     14.34      135.10  1297.0      0.10030       0.13280   \n",
              " ..       ...       ...         ...     ...          ...           ...   \n",
              " 564    21.56     22.39      142.00  1479.0      0.11100       0.11590   \n",
              " 565    20.13     28.25      131.20  1261.0      0.09780       0.10340   \n",
              " 566    16.60     28.08      108.30   858.1      0.08455       0.10230   \n",
              " 567    20.60     29.33      140.10  1265.0      0.11780       0.27700   \n",
              " 568     7.76     24.54       47.92   181.0      0.05263       0.04362   \n",
              " \n",
              "      concavity1  concave_points1  symmetry1  fractal_dimension1  ...  radius3  \\\n",
              " 0       0.30010          0.14710     0.2419             0.07871  ...   25.380   \n",
              " 1       0.08690          0.07017     0.1812             0.05667  ...   24.990   \n",
              " 2       0.19740          0.12790     0.2069             0.05999  ...   23.570   \n",
              " 3       0.24140          0.10520     0.2597             0.09744  ...   14.910   \n",
              " 4       0.19800          0.10430     0.1809             0.05883  ...   22.540   \n",
              " ..          ...              ...        ...                 ...  ...      ...   \n",
              " 564     0.24390          0.13890     0.1726             0.05623  ...   25.450   \n",
              " 565     0.14400          0.09791     0.1752             0.05533  ...   23.690   \n",
              " 566     0.09251          0.05302     0.1590             0.05648  ...   18.980   \n",
              " 567     0.35140          0.15200     0.2397             0.07016  ...   25.740   \n",
              " 568     0.00000          0.00000     0.1587             0.05884  ...    9.456   \n",
              " \n",
              "      texture3  perimeter3   area3  smoothness3  compactness3  concavity3  \\\n",
              " 0       17.33      184.60  2019.0      0.16220       0.66560      0.7119   \n",
              " 1       23.41      158.80  1956.0      0.12380       0.18660      0.2416   \n",
              " 2       25.53      152.50  1709.0      0.14440       0.42450      0.4504   \n",
              " 3       26.50       98.87   567.7      0.20980       0.86630      0.6869   \n",
              " 4       16.67      152.20  1575.0      0.13740       0.20500      0.4000   \n",
              " ..        ...         ...     ...          ...           ...         ...   \n",
              " 564     26.40      166.10  2027.0      0.14100       0.21130      0.4107   \n",
              " 565     38.25      155.00  1731.0      0.11660       0.19220      0.3215   \n",
              " 566     34.12      126.70  1124.0      0.11390       0.30940      0.3403   \n",
              " 567     39.42      184.60  1821.0      0.16500       0.86810      0.9387   \n",
              " 568     30.37       59.16   268.6      0.08996       0.06444      0.0000   \n",
              " \n",
              "      concave_points3  symmetry3  fractal_dimension3  \n",
              " 0             0.2654     0.4601             0.11890  \n",
              " 1             0.1860     0.2750             0.08902  \n",
              " 2             0.2430     0.3613             0.08758  \n",
              " 3             0.2575     0.6638             0.17300  \n",
              " 4             0.1625     0.2364             0.07678  \n",
              " ..               ...        ...                 ...  \n",
              " 564           0.2216     0.2060             0.07115  \n",
              " 565           0.1628     0.2572             0.06637  \n",
              " 566           0.1418     0.2218             0.07820  \n",
              " 567           0.2650     0.4087             0.12400  \n",
              " 568           0.0000     0.2871             0.07039  \n",
              " \n",
              " [569 rows x 30 columns])"
            ]
          },
          "metadata": {},
          "execution_count": 4
        }
      ]
    },
    {
      "cell_type": "code",
      "source": [
        "X.shape, y.shape"
      ],
      "metadata": {
        "colab": {
          "base_uri": "https://localhost:8080/"
        },
        "id": "EFlXWMYdBqKx",
        "outputId": "cafbfbe9-baa1-416e-db6d-eeb2d2f568f7"
      },
      "id": "EFlXWMYdBqKx",
      "execution_count": null,
      "outputs": [
        {
          "output_type": "execute_result",
          "data": {
            "text/plain": [
              "((569, 30), (569, 1))"
            ]
          },
          "metadata": {},
          "execution_count": 5
        }
      ]
    },
    {
      "cell_type": "code",
      "source": [
        "X.shape[1]"
      ],
      "metadata": {
        "colab": {
          "base_uri": "https://localhost:8080/"
        },
        "id": "sJnnTrajB2LX",
        "outputId": "f38af318-0ec9-471f-a0f8-ebddba671b58"
      },
      "id": "sJnnTrajB2LX",
      "execution_count": null,
      "outputs": [
        {
          "output_type": "execute_result",
          "data": {
            "text/plain": [
              "30"
            ]
          },
          "metadata": {},
          "execution_count": 6
        }
      ]
    },
    {
      "cell_type": "code",
      "source": [
        "X.dtypes, y.dtypes"
      ],
      "metadata": {
        "colab": {
          "base_uri": "https://localhost:8080/"
        },
        "id": "zzutuG2PED57",
        "outputId": "499577c9-a99f-4871-b229-7e1728b7b9e9"
      },
      "id": "zzutuG2PED57",
      "execution_count": null,
      "outputs": [
        {
          "output_type": "execute_result",
          "data": {
            "text/plain": [
              "(radius1               float64\n",
              " texture1              float64\n",
              " perimeter1            float64\n",
              " area1                 float64\n",
              " smoothness1           float64\n",
              " compactness1          float64\n",
              " concavity1            float64\n",
              " concave_points1       float64\n",
              " symmetry1             float64\n",
              " fractal_dimension1    float64\n",
              " radius2               float64\n",
              " texture2              float64\n",
              " perimeter2            float64\n",
              " area2                 float64\n",
              " smoothness2           float64\n",
              " compactness2          float64\n",
              " concavity2            float64\n",
              " concave_points2       float64\n",
              " symmetry2             float64\n",
              " fractal_dimension2    float64\n",
              " radius3               float64\n",
              " texture3              float64\n",
              " perimeter3            float64\n",
              " area3                 float64\n",
              " smoothness3           float64\n",
              " compactness3          float64\n",
              " concavity3            float64\n",
              " concave_points3       float64\n",
              " symmetry3             float64\n",
              " fractal_dimension3    float64\n",
              " dtype: object,\n",
              " Diagnosis    object\n",
              " dtype: object)"
            ]
          },
          "metadata": {},
          "execution_count": 7
        }
      ]
    },
    {
      "cell_type": "code",
      "source": [
        "y"
      ],
      "metadata": {
        "colab": {
          "base_uri": "https://localhost:8080/",
          "height": 424
        },
        "id": "nzpNbKoNFLJK",
        "outputId": "0c017eac-cb30-4eee-a3bc-454d82125553"
      },
      "id": "nzpNbKoNFLJK",
      "execution_count": null,
      "outputs": [
        {
          "output_type": "execute_result",
          "data": {
            "text/plain": [
              "    Diagnosis\n",
              "0           M\n",
              "1           M\n",
              "2           M\n",
              "3           M\n",
              "4           M\n",
              "..        ...\n",
              "564         M\n",
              "565         M\n",
              "566         M\n",
              "567         M\n",
              "568         B\n",
              "\n",
              "[569 rows x 1 columns]"
            ],
            "text/html": [
              "\n",
              "  <div id=\"df-a34461be-d6fd-49ff-9769-741ec7a3f359\" class=\"colab-df-container\">\n",
              "    <div>\n",
              "<style scoped>\n",
              "    .dataframe tbody tr th:only-of-type {\n",
              "        vertical-align: middle;\n",
              "    }\n",
              "\n",
              "    .dataframe tbody tr th {\n",
              "        vertical-align: top;\n",
              "    }\n",
              "\n",
              "    .dataframe thead th {\n",
              "        text-align: right;\n",
              "    }\n",
              "</style>\n",
              "<table border=\"1\" class=\"dataframe\">\n",
              "  <thead>\n",
              "    <tr style=\"text-align: right;\">\n",
              "      <th></th>\n",
              "      <th>Diagnosis</th>\n",
              "    </tr>\n",
              "  </thead>\n",
              "  <tbody>\n",
              "    <tr>\n",
              "      <th>0</th>\n",
              "      <td>M</td>\n",
              "    </tr>\n",
              "    <tr>\n",
              "      <th>1</th>\n",
              "      <td>M</td>\n",
              "    </tr>\n",
              "    <tr>\n",
              "      <th>2</th>\n",
              "      <td>M</td>\n",
              "    </tr>\n",
              "    <tr>\n",
              "      <th>3</th>\n",
              "      <td>M</td>\n",
              "    </tr>\n",
              "    <tr>\n",
              "      <th>4</th>\n",
              "      <td>M</td>\n",
              "    </tr>\n",
              "    <tr>\n",
              "      <th>...</th>\n",
              "      <td>...</td>\n",
              "    </tr>\n",
              "    <tr>\n",
              "      <th>564</th>\n",
              "      <td>M</td>\n",
              "    </tr>\n",
              "    <tr>\n",
              "      <th>565</th>\n",
              "      <td>M</td>\n",
              "    </tr>\n",
              "    <tr>\n",
              "      <th>566</th>\n",
              "      <td>M</td>\n",
              "    </tr>\n",
              "    <tr>\n",
              "      <th>567</th>\n",
              "      <td>M</td>\n",
              "    </tr>\n",
              "    <tr>\n",
              "      <th>568</th>\n",
              "      <td>B</td>\n",
              "    </tr>\n",
              "  </tbody>\n",
              "</table>\n",
              "<p>569 rows × 1 columns</p>\n",
              "</div>\n",
              "    <div class=\"colab-df-buttons\">\n",
              "\n",
              "  <div class=\"colab-df-container\">\n",
              "    <button class=\"colab-df-convert\" onclick=\"convertToInteractive('df-a34461be-d6fd-49ff-9769-741ec7a3f359')\"\n",
              "            title=\"Convert this dataframe to an interactive table.\"\n",
              "            style=\"display:none;\">\n",
              "\n",
              "  <svg xmlns=\"http://www.w3.org/2000/svg\" height=\"24px\" viewBox=\"0 -960 960 960\">\n",
              "    <path d=\"M120-120v-720h720v720H120Zm60-500h600v-160H180v160Zm220 220h160v-160H400v160Zm0 220h160v-160H400v160ZM180-400h160v-160H180v160Zm440 0h160v-160H620v160ZM180-180h160v-160H180v160Zm440 0h160v-160H620v160Z\"/>\n",
              "  </svg>\n",
              "    </button>\n",
              "\n",
              "  <style>\n",
              "    .colab-df-container {\n",
              "      display:flex;\n",
              "      gap: 12px;\n",
              "    }\n",
              "\n",
              "    .colab-df-convert {\n",
              "      background-color: #E8F0FE;\n",
              "      border: none;\n",
              "      border-radius: 50%;\n",
              "      cursor: pointer;\n",
              "      display: none;\n",
              "      fill: #1967D2;\n",
              "      height: 32px;\n",
              "      padding: 0 0 0 0;\n",
              "      width: 32px;\n",
              "    }\n",
              "\n",
              "    .colab-df-convert:hover {\n",
              "      background-color: #E2EBFA;\n",
              "      box-shadow: 0px 1px 2px rgba(60, 64, 67, 0.3), 0px 1px 3px 1px rgba(60, 64, 67, 0.15);\n",
              "      fill: #174EA6;\n",
              "    }\n",
              "\n",
              "    .colab-df-buttons div {\n",
              "      margin-bottom: 4px;\n",
              "    }\n",
              "\n",
              "    [theme=dark] .colab-df-convert {\n",
              "      background-color: #3B4455;\n",
              "      fill: #D2E3FC;\n",
              "    }\n",
              "\n",
              "    [theme=dark] .colab-df-convert:hover {\n",
              "      background-color: #434B5C;\n",
              "      box-shadow: 0px 1px 3px 1px rgba(0, 0, 0, 0.15);\n",
              "      filter: drop-shadow(0px 1px 2px rgba(0, 0, 0, 0.3));\n",
              "      fill: #FFFFFF;\n",
              "    }\n",
              "  </style>\n",
              "\n",
              "    <script>\n",
              "      const buttonEl =\n",
              "        document.querySelector('#df-a34461be-d6fd-49ff-9769-741ec7a3f359 button.colab-df-convert');\n",
              "      buttonEl.style.display =\n",
              "        google.colab.kernel.accessAllowed ? 'block' : 'none';\n",
              "\n",
              "      async function convertToInteractive(key) {\n",
              "        const element = document.querySelector('#df-a34461be-d6fd-49ff-9769-741ec7a3f359');\n",
              "        const dataTable =\n",
              "          await google.colab.kernel.invokeFunction('convertToInteractive',\n",
              "                                                    [key], {});\n",
              "        if (!dataTable) return;\n",
              "\n",
              "        const docLinkHtml = 'Like what you see? Visit the ' +\n",
              "          '<a target=\"_blank\" href=https://colab.research.google.com/notebooks/data_table.ipynb>data table notebook</a>'\n",
              "          + ' to learn more about interactive tables.';\n",
              "        element.innerHTML = '';\n",
              "        dataTable['output_type'] = 'display_data';\n",
              "        await google.colab.output.renderOutput(dataTable, element);\n",
              "        const docLink = document.createElement('div');\n",
              "        docLink.innerHTML = docLinkHtml;\n",
              "        element.appendChild(docLink);\n",
              "      }\n",
              "    </script>\n",
              "  </div>\n",
              "\n",
              "\n",
              "<div id=\"df-41f1823f-fb90-44eb-a61a-bf261f49c8b0\">\n",
              "  <button class=\"colab-df-quickchart\" onclick=\"quickchart('df-41f1823f-fb90-44eb-a61a-bf261f49c8b0')\"\n",
              "            title=\"Suggest charts\"\n",
              "            style=\"display:none;\">\n",
              "\n",
              "<svg xmlns=\"http://www.w3.org/2000/svg\" height=\"24px\"viewBox=\"0 0 24 24\"\n",
              "     width=\"24px\">\n",
              "    <g>\n",
              "        <path d=\"M19 3H5c-1.1 0-2 .9-2 2v14c0 1.1.9 2 2 2h14c1.1 0 2-.9 2-2V5c0-1.1-.9-2-2-2zM9 17H7v-7h2v7zm4 0h-2V7h2v10zm4 0h-2v-4h2v4z\"/>\n",
              "    </g>\n",
              "</svg>\n",
              "  </button>\n",
              "\n",
              "<style>\n",
              "  .colab-df-quickchart {\n",
              "      --bg-color: #E8F0FE;\n",
              "      --fill-color: #1967D2;\n",
              "      --hover-bg-color: #E2EBFA;\n",
              "      --hover-fill-color: #174EA6;\n",
              "      --disabled-fill-color: #AAA;\n",
              "      --disabled-bg-color: #DDD;\n",
              "  }\n",
              "\n",
              "  [theme=dark] .colab-df-quickchart {\n",
              "      --bg-color: #3B4455;\n",
              "      --fill-color: #D2E3FC;\n",
              "      --hover-bg-color: #434B5C;\n",
              "      --hover-fill-color: #FFFFFF;\n",
              "      --disabled-bg-color: #3B4455;\n",
              "      --disabled-fill-color: #666;\n",
              "  }\n",
              "\n",
              "  .colab-df-quickchart {\n",
              "    background-color: var(--bg-color);\n",
              "    border: none;\n",
              "    border-radius: 50%;\n",
              "    cursor: pointer;\n",
              "    display: none;\n",
              "    fill: var(--fill-color);\n",
              "    height: 32px;\n",
              "    padding: 0;\n",
              "    width: 32px;\n",
              "  }\n",
              "\n",
              "  .colab-df-quickchart:hover {\n",
              "    background-color: var(--hover-bg-color);\n",
              "    box-shadow: 0 1px 2px rgba(60, 64, 67, 0.3), 0 1px 3px 1px rgba(60, 64, 67, 0.15);\n",
              "    fill: var(--button-hover-fill-color);\n",
              "  }\n",
              "\n",
              "  .colab-df-quickchart-complete:disabled,\n",
              "  .colab-df-quickchart-complete:disabled:hover {\n",
              "    background-color: var(--disabled-bg-color);\n",
              "    fill: var(--disabled-fill-color);\n",
              "    box-shadow: none;\n",
              "  }\n",
              "\n",
              "  .colab-df-spinner {\n",
              "    border: 2px solid var(--fill-color);\n",
              "    border-color: transparent;\n",
              "    border-bottom-color: var(--fill-color);\n",
              "    animation:\n",
              "      spin 1s steps(1) infinite;\n",
              "  }\n",
              "\n",
              "  @keyframes spin {\n",
              "    0% {\n",
              "      border-color: transparent;\n",
              "      border-bottom-color: var(--fill-color);\n",
              "      border-left-color: var(--fill-color);\n",
              "    }\n",
              "    20% {\n",
              "      border-color: transparent;\n",
              "      border-left-color: var(--fill-color);\n",
              "      border-top-color: var(--fill-color);\n",
              "    }\n",
              "    30% {\n",
              "      border-color: transparent;\n",
              "      border-left-color: var(--fill-color);\n",
              "      border-top-color: var(--fill-color);\n",
              "      border-right-color: var(--fill-color);\n",
              "    }\n",
              "    40% {\n",
              "      border-color: transparent;\n",
              "      border-right-color: var(--fill-color);\n",
              "      border-top-color: var(--fill-color);\n",
              "    }\n",
              "    60% {\n",
              "      border-color: transparent;\n",
              "      border-right-color: var(--fill-color);\n",
              "    }\n",
              "    80% {\n",
              "      border-color: transparent;\n",
              "      border-right-color: var(--fill-color);\n",
              "      border-bottom-color: var(--fill-color);\n",
              "    }\n",
              "    90% {\n",
              "      border-color: transparent;\n",
              "      border-bottom-color: var(--fill-color);\n",
              "    }\n",
              "  }\n",
              "</style>\n",
              "\n",
              "  <script>\n",
              "    async function quickchart(key) {\n",
              "      const quickchartButtonEl =\n",
              "        document.querySelector('#' + key + ' button');\n",
              "      quickchartButtonEl.disabled = true;  // To prevent multiple clicks.\n",
              "      quickchartButtonEl.classList.add('colab-df-spinner');\n",
              "      try {\n",
              "        const charts = await google.colab.kernel.invokeFunction(\n",
              "            'suggestCharts', [key], {});\n",
              "      } catch (error) {\n",
              "        console.error('Error during call to suggestCharts:', error);\n",
              "      }\n",
              "      quickchartButtonEl.classList.remove('colab-df-spinner');\n",
              "      quickchartButtonEl.classList.add('colab-df-quickchart-complete');\n",
              "    }\n",
              "    (() => {\n",
              "      let quickchartButtonEl =\n",
              "        document.querySelector('#df-41f1823f-fb90-44eb-a61a-bf261f49c8b0 button');\n",
              "      quickchartButtonEl.style.display =\n",
              "        google.colab.kernel.accessAllowed ? 'block' : 'none';\n",
              "    })();\n",
              "  </script>\n",
              "</div>\n",
              "    </div>\n",
              "  </div>\n"
            ]
          },
          "metadata": {},
          "execution_count": 8
        }
      ]
    },
    {
      "cell_type": "code",
      "source": [
        "import pandas as pd\n",
        "\n",
        "# Assuming 'M' and 'B' are your labels in the DataFrame column 'y'\n",
        "label_mapping = {'M': 0, 'B': 1}\n",
        "\n",
        "# Convert labels to integers using the map function\n",
        "y['Value'] = y['Diagnosis'].map(label_mapping)\n",
        "\n",
        "# Now 'y_int' column contains the integer representation of 'M' and 'B'\n",
        "print(y)"
      ],
      "metadata": {
        "colab": {
          "base_uri": "https://localhost:8080/"
        },
        "id": "zmvUyg3JFa5q",
        "outputId": "9da3ba82-f2a6-4b94-fe91-485cc62131db"
      },
      "id": "zmvUyg3JFa5q",
      "execution_count": null,
      "outputs": [
        {
          "output_type": "stream",
          "name": "stdout",
          "text": [
            "    Diagnosis  Value\n",
            "0           M      0\n",
            "1           M      0\n",
            "2           M      0\n",
            "3           M      0\n",
            "4           M      0\n",
            "..        ...    ...\n",
            "564         M      0\n",
            "565         M      0\n",
            "566         M      0\n",
            "567         M      0\n",
            "568         B      1\n",
            "\n",
            "[569 rows x 2 columns]\n"
          ]
        },
        {
          "output_type": "stream",
          "name": "stderr",
          "text": [
            "<ipython-input-9-c05d6c49ba5e>:7: SettingWithCopyWarning: \n",
            "A value is trying to be set on a copy of a slice from a DataFrame.\n",
            "Try using .loc[row_indexer,col_indexer] = value instead\n",
            "\n",
            "See the caveats in the documentation: https://pandas.pydata.org/pandas-docs/stable/user_guide/indexing.html#returning-a-view-versus-a-copy\n",
            "  y['Value'] = y['Diagnosis'].map(label_mapping)\n"
          ]
        }
      ]
    },
    {
      "cell_type": "markdown",
      "id": "30ce0c59-0e94-480a-81ae-528e68356a15",
      "metadata": {
        "id": "30ce0c59-0e94-480a-81ae-528e68356a15"
      },
      "source": [
        "### 3. Model Building\n",
        "\n",
        "Define your deep learning model's architecture."
      ]
    },
    {
      "cell_type": "code",
      "source": [
        "from sklearn.model_selection import train_test_split\n",
        "from sklearn.preprocessing import StandardScaler\n",
        "\n",
        "# Set a seed for PyTorch\n",
        "seed = 42\n",
        "torch.manual_seed(seed)\n",
        "\n",
        "# Set a seed for NumPy\n",
        "np.random.seed(seed)\n",
        "\n",
        "# Assuming X and y are your data and labels\n",
        "# Convert DataFrame to NumPy array and handle object types\n",
        "X_np = X.apply(pd.to_numeric, errors='coerce').values\n",
        "y_np = y['Value'].apply(pd.to_numeric, errors='coerce').values\n",
        "\n",
        "# Split data into training and validation sets\n",
        "X_train, X_valid, y_train, y_valid = train_test_split(X_np, y_np, test_size=0.2, random_state=seed)\n",
        "\n",
        "scaler = StandardScaler()\n",
        "# Fit the scaler on the training data and transform it\n",
        "X_train_normalized = scaler.fit_transform(X_train)\n",
        "X_valid_normalized = scaler.transform(X_valid)  # Use the same scaler for validation data\n"
      ],
      "metadata": {
        "id": "nx2G-e5uO3vm"
      },
      "id": "nx2G-e5uO3vm",
      "execution_count": null,
      "outputs": []
    },
    {
      "cell_type": "markdown",
      "source": [
        "Evaluate data train"
      ],
      "metadata": {
        "id": "qX_SsFB0Timz"
      },
      "id": "qX_SsFB0Timz"
    },
    {
      "cell_type": "code",
      "execution_count": null,
      "id": "1aa3c3f7-c6c5-4419-9b25-e8d7a8ec345a",
      "metadata": {
        "id": "1aa3c3f7-c6c5-4419-9b25-e8d7a8ec345a",
        "colab": {
          "base_uri": "https://localhost:8080/"
        },
        "outputId": "80defdd1-9751-4933-d766-347d637eab6c"
      },
      "outputs": [
        {
          "output_type": "stream",
          "name": "stderr",
          "text": [
            "<ipython-input-11-2411ac86e337>:58: UserWarning: To copy construct from a tensor, it is recommended to use sourceTensor.clone().detach() or sourceTensor.clone().detach().requires_grad_(True), rather than torch.tensor(sourceTensor).\n",
            "  y_train_tensor = torch.tensor(y_train, dtype=torch.float32)\n"
          ]
        },
        {
          "output_type": "stream",
          "name": "stdout",
          "text": [
            "Epoch 1/50, Loss: 0.7117443084716797, Train Accuracy: 61.1599%\n",
            "Epoch 2/50, Loss: 0.6843448281288147, Train Accuracy: 63.4446%\n",
            "Epoch 3/50, Loss: 0.6580731272697449, Train Accuracy: 65.0264%\n",
            "Epoch 4/50, Loss: 0.6328750848770142, Train Accuracy: 70.1230%\n",
            "Epoch 5/50, Loss: 0.6087397933006287, Train Accuracy: 75.5712%\n",
            "Epoch 6/50, Loss: 0.5856711864471436, Train Accuracy: 79.7891%\n",
            "Epoch 7/50, Loss: 0.5636316537857056, Train Accuracy: 84.3585%\n",
            "Epoch 8/50, Loss: 0.5426040291786194, Train Accuracy: 87.5220%\n",
            "Epoch 9/50, Loss: 0.5225588083267212, Train Accuracy: 89.4552%\n",
            "Epoch 10/50, Loss: 0.5034465789794922, Train Accuracy: 90.8612%\n",
            "Epoch 11/50, Loss: 0.4852079451084137, Train Accuracy: 91.2127%\n",
            "Epoch 12/50, Loss: 0.46781259775161743, Train Accuracy: 92.0914%\n",
            "Epoch 13/50, Loss: 0.45121854543685913, Train Accuracy: 92.0914%\n",
            "Epoch 14/50, Loss: 0.4353775680065155, Train Accuracy: 92.2671%\n",
            "Epoch 15/50, Loss: 0.42025086283683777, Train Accuracy: 92.4429%\n",
            "Epoch 16/50, Loss: 0.4057924151420593, Train Accuracy: 92.7944%\n",
            "Epoch 17/50, Loss: 0.39198359847068787, Train Accuracy: 92.9701%\n",
            "Epoch 18/50, Loss: 0.3788027763366699, Train Accuracy: 92.9701%\n",
            "Epoch 19/50, Loss: 0.36622071266174316, Train Accuracy: 93.1459%\n",
            "Epoch 20/50, Loss: 0.3542112112045288, Train Accuracy: 93.1459%\n",
            "Epoch 21/50, Loss: 0.34274184703826904, Train Accuracy: 93.3216%\n",
            "Epoch 22/50, Loss: 0.33178457617759705, Train Accuracy: 93.4974%\n",
            "Epoch 23/50, Loss: 0.321320116519928, Train Accuracy: 93.4974%\n",
            "Epoch 24/50, Loss: 0.3113304674625397, Train Accuracy: 93.4974%\n",
            "Epoch 25/50, Loss: 0.30179154872894287, Train Accuracy: 93.6731%\n",
            "Epoch 26/50, Loss: 0.2926848530769348, Train Accuracy: 94.0246%\n",
            "Epoch 27/50, Loss: 0.2839921712875366, Train Accuracy: 94.0246%\n",
            "Epoch 28/50, Loss: 0.2756935954093933, Train Accuracy: 94.2004%\n",
            "Epoch 29/50, Loss: 0.26776978373527527, Train Accuracy: 94.2004%\n",
            "Epoch 30/50, Loss: 0.26020553708076477, Train Accuracy: 94.2004%\n",
            "Epoch 31/50, Loss: 0.25298285484313965, Train Accuracy: 94.3761%\n",
            "Epoch 32/50, Loss: 0.2460905909538269, Train Accuracy: 94.5518%\n",
            "Epoch 33/50, Loss: 0.23951204121112823, Train Accuracy: 94.7276%\n",
            "Epoch 34/50, Loss: 0.23323319852352142, Train Accuracy: 94.7276%\n",
            "Epoch 35/50, Loss: 0.22723858058452606, Train Accuracy: 94.7276%\n",
            "Epoch 36/50, Loss: 0.22151672840118408, Train Accuracy: 94.7276%\n",
            "Epoch 37/50, Loss: 0.21605493128299713, Train Accuracy: 94.7276%\n",
            "Epoch 38/50, Loss: 0.21083684265613556, Train Accuracy: 94.5518%\n",
            "Epoch 39/50, Loss: 0.20585209131240845, Train Accuracy: 94.7276%\n",
            "Epoch 40/50, Loss: 0.20108851790428162, Train Accuracy: 94.7276%\n",
            "Epoch 41/50, Loss: 0.19653648138046265, Train Accuracy: 94.7276%\n",
            "Epoch 42/50, Loss: 0.19218303263187408, Train Accuracy: 94.7276%\n",
            "Epoch 43/50, Loss: 0.18801650404930115, Train Accuracy: 94.9033%\n",
            "Epoch 44/50, Loss: 0.18402479588985443, Train Accuracy: 94.7276%\n",
            "Epoch 45/50, Loss: 0.18019993603229523, Train Accuracy: 94.9033%\n",
            "Epoch 46/50, Loss: 0.17653420567512512, Train Accuracy: 94.9033%\n",
            "Epoch 47/50, Loss: 0.17302033305168152, Train Accuracy: 94.9033%\n",
            "Epoch 48/50, Loss: 0.16965264081954956, Train Accuracy: 94.9033%\n",
            "Epoch 49/50, Loss: 0.16642187535762787, Train Accuracy: 94.9033%\n",
            "Epoch 50/50, Loss: 0.16332010924816132, Train Accuracy: 95.0791%\n"
          ]
        }
      ],
      "source": [
        "# Write your code here for Model Building here\n",
        "\n",
        "# define your Deep Learning Model here, training is in the next section.\n",
        "# Set a seed for PyTorch\n",
        "seed = 42\n",
        "torch.manual_seed(seed)\n",
        "\n",
        "# Set a seed for NumPy\n",
        "np.random.seed(seed)\n",
        "\n",
        "# Convert DataFrame to NumPy array and handle object types\n",
        "X_np = X.apply(pd.to_numeric, errors='coerce').values\n",
        "y_np = y['Value'].apply(pd.to_numeric, errors='coerce').values\n",
        "\n",
        "scaler = StandardScaler()\n",
        "# Fit the scaler on the training data and transform it\n",
        "X_train_normalized = scaler.fit_transform(X_np)\n",
        "\n",
        "# Convert NumPy array to PyTorch tensor\n",
        "X_train = torch.tensor(X_train_normalized)\n",
        "y_train = torch.tensor(y_np)\n",
        "\n",
        "# Define the neural network model\n",
        "class SimpleModel(nn.Module):\n",
        "    def __init__(self, input_size, hidden_size, output_size):\n",
        "        super(SimpleModel, self).__init__()\n",
        "        self.fc1 = nn.Linear(input_size, 128)\n",
        "        self.relu = nn.ReLU()\n",
        "        self.fc2 = nn.Linear(128, output_size)\n",
        "        self.sigmoid = nn.Sigmoid()\n",
        "\n",
        "    def forward(self, x):\n",
        "        x = self.fc1(x)\n",
        "        x = self.relu(x)\n",
        "        x = self.fc2(x)\n",
        "        x = self.sigmoid(x)\n",
        "        return x\n",
        "\n",
        "# Instantiate the model\n",
        "input_size = X_train.shape[1]  # Adjust based on your input data\n",
        "hidden_size = 64  # Adjust based on your requirements\n",
        "output_size = 1  # Adjust based on your problem (e.g., binary classification)\n",
        "\n",
        "model = SimpleModel(input_size, hidden_size, output_size)\n",
        "\n",
        "# Define loss function and optimizer\n",
        "criterion = nn.BCELoss()  # Binary Cross Entropy Loss for binary classification\n",
        "optimizer = optim.Adam(model.parameters(), lr=0.001)  # Adjust learning rate as needed\n",
        "\n",
        "# Training loop\n",
        "epochs = 50  # Adjust as needed\n",
        "\n",
        "# Convert NumPy array to PyTorch tensor\n",
        "# X_train_tensor = torch.tensor(X_train_normalized)\n",
        "# y_train_tensor = torch.tensor(y_train)\n",
        "# Convert NumPy array to PyTorch tensor\n",
        "X_train_tensor = torch.tensor(X_train_normalized, dtype=torch.float32)\n",
        "y_train_tensor = torch.tensor(y_train, dtype=torch.float32)\n",
        "\n",
        "for epoch in range(epochs):\n",
        "    # Forward pass\n",
        "    outputs = model(X_train_tensor)  # Ensure the input data type is appropriate\n",
        "    loss = criterion(outputs, y_train_tensor.view(-1, 1))  # Assuming y_train is a column vector\n",
        "\n",
        "    # Backward pass and optimization\n",
        "    optimizer.zero_grad()\n",
        "    loss.backward()\n",
        "    optimizer.step()\n",
        "\n",
        "    # Calculate accuracy\n",
        "    predicted_labels = (outputs >= 0.5).float()\n",
        "    correct_predictions = (predicted_labels == y_train_tensor.view(-1, 1)).sum().item()\n",
        "    total_samples = y_train_tensor.size(0)\n",
        "    accuracy = correct_predictions / total_samples\n",
        "\n",
        "    print(f'Epoch {epoch+1}/{epochs}, Loss: {loss.item()}, Train Accuracy: {accuracy * 100:.4f}%')\n",
        "\n",
        "# Model is now trained\n"
      ]
    },
    {
      "cell_type": "markdown",
      "source": [
        "Evaluate data validation"
      ],
      "metadata": {
        "id": "VlBiWmKZTed9"
      },
      "id": "VlBiWmKZTed9"
    },
    {
      "cell_type": "code",
      "source": [
        "seed = 42\n",
        "torch.manual_seed(seed)\n",
        "\n",
        "# Set a seed for NumPy\n",
        "np.random.seed(seed)\n",
        "\n",
        "X_valid_tensor = torch.tensor(X_valid_normalized, dtype=torch.float32)\n",
        "y_valid_tensor = torch.tensor(y_valid, dtype=torch.float32)\n",
        "\n",
        "for epoch in range(epochs):\n",
        "    # Forward pass\n",
        "    outputs = model(X_valid_tensor)\n",
        "    loss = criterion(outputs, y_valid_tensor.view(-1, 1))\n",
        "\n",
        "    # Backward pass and optimization\n",
        "    optimizer.zero_grad()\n",
        "    loss.backward()\n",
        "    optimizer.step()\n",
        "    dl_loss_value =loss.item()\n",
        "\n",
        "    # Calculate accuracy\n",
        "    predicted_labels = (outputs >= 0.5).float()\n",
        "    correct_predictions = (predicted_labels == y_valid_tensor.view(-1, 1)).sum().item()\n",
        "    total_samples = y_valid_tensor.size(0)\n",
        "    accuracy = correct_predictions / total_samples\n",
        "    dl_accuracy = \"{:.4f}\".format(accuracy * 100)\n",
        "\n",
        "    print(f'Epoch {epoch+1}/{epochs}, Loss: {loss.item()}, Validated Accuracy: {dl_accuracy} %')\n",
        "\n",
        "# Model is now trained"
      ],
      "metadata": {
        "colab": {
          "base_uri": "https://localhost:8080/"
        },
        "id": "lPW4mXdkRgR9",
        "outputId": "779a21c3-7448-4a91-b1f5-2c3d00ceaf16"
      },
      "id": "lPW4mXdkRgR9",
      "execution_count": null,
      "outputs": [
        {
          "output_type": "stream",
          "name": "stdout",
          "text": [
            "Epoch 1/50, Loss: 0.13907110691070557, Validated Accuracy: 97.3684 %\n",
            "Epoch 2/50, Loss: 0.13621200621128082, Validated Accuracy: 97.3684 %\n",
            "Epoch 3/50, Loss: 0.1333947628736496, Validated Accuracy: 97.3684 %\n",
            "Epoch 4/50, Loss: 0.13062427937984467, Validated Accuracy: 97.3684 %\n",
            "Epoch 5/50, Loss: 0.12790490686893463, Validated Accuracy: 97.3684 %\n",
            "Epoch 6/50, Loss: 0.12524239718914032, Validated Accuracy: 97.3684 %\n",
            "Epoch 7/50, Loss: 0.12264109402894974, Validated Accuracy: 97.3684 %\n",
            "Epoch 8/50, Loss: 0.12010160833597183, Validated Accuracy: 97.3684 %\n",
            "Epoch 9/50, Loss: 0.11762543767690659, Validated Accuracy: 97.3684 %\n",
            "Epoch 10/50, Loss: 0.11521531641483307, Validated Accuracy: 97.3684 %\n",
            "Epoch 11/50, Loss: 0.11286822706460953, Validated Accuracy: 97.3684 %\n",
            "Epoch 12/50, Loss: 0.1105874553322792, Validated Accuracy: 97.3684 %\n",
            "Epoch 13/50, Loss: 0.10837189853191376, Validated Accuracy: 97.3684 %\n",
            "Epoch 14/50, Loss: 0.10622338205575943, Validated Accuracy: 97.3684 %\n",
            "Epoch 15/50, Loss: 0.10414014756679535, Validated Accuracy: 97.3684 %\n",
            "Epoch 16/50, Loss: 0.10212244838476181, Validated Accuracy: 97.3684 %\n",
            "Epoch 17/50, Loss: 0.10017578303813934, Validated Accuracy: 97.3684 %\n",
            "Epoch 18/50, Loss: 0.0982949286699295, Validated Accuracy: 97.3684 %\n",
            "Epoch 19/50, Loss: 0.09647204726934433, Validated Accuracy: 97.3684 %\n",
            "Epoch 20/50, Loss: 0.09470776468515396, Validated Accuracy: 97.3684 %\n",
            "Epoch 21/50, Loss: 0.09300055354833603, Validated Accuracy: 97.3684 %\n",
            "Epoch 22/50, Loss: 0.0913507342338562, Validated Accuracy: 97.3684 %\n",
            "Epoch 23/50, Loss: 0.0897541344165802, Validated Accuracy: 98.2456 %\n",
            "Epoch 24/50, Loss: 0.08820870518684387, Validated Accuracy: 98.2456 %\n",
            "Epoch 25/50, Loss: 0.0867125615477562, Validated Accuracy: 98.2456 %\n",
            "Epoch 26/50, Loss: 0.08526474982500076, Validated Accuracy: 98.2456 %\n",
            "Epoch 27/50, Loss: 0.0838640034198761, Validated Accuracy: 98.2456 %\n",
            "Epoch 28/50, Loss: 0.0825107991695404, Validated Accuracy: 98.2456 %\n",
            "Epoch 29/50, Loss: 0.08120258152484894, Validated Accuracy: 98.2456 %\n",
            "Epoch 30/50, Loss: 0.07993315160274506, Validated Accuracy: 98.2456 %\n",
            "Epoch 31/50, Loss: 0.07870066165924072, Validated Accuracy: 98.2456 %\n",
            "Epoch 32/50, Loss: 0.07750531286001205, Validated Accuracy: 98.2456 %\n",
            "Epoch 33/50, Loss: 0.07634518295526505, Validated Accuracy: 98.2456 %\n",
            "Epoch 34/50, Loss: 0.07521945238113403, Validated Accuracy: 98.2456 %\n",
            "Epoch 35/50, Loss: 0.07412435859441757, Validated Accuracy: 98.2456 %\n",
            "Epoch 36/50, Loss: 0.07305794209241867, Validated Accuracy: 98.2456 %\n",
            "Epoch 37/50, Loss: 0.0720183327794075, Validated Accuracy: 98.2456 %\n",
            "Epoch 38/50, Loss: 0.07100547850131989, Validated Accuracy: 98.2456 %\n",
            "Epoch 39/50, Loss: 0.07001896947622299, Validated Accuracy: 98.2456 %\n",
            "Epoch 40/50, Loss: 0.06905778497457504, Validated Accuracy: 98.2456 %\n",
            "Epoch 41/50, Loss: 0.06812350451946259, Validated Accuracy: 98.2456 %\n",
            "Epoch 42/50, Loss: 0.06721242517232895, Validated Accuracy: 98.2456 %\n",
            "Epoch 43/50, Loss: 0.06632151454687119, Validated Accuracy: 98.2456 %\n",
            "Epoch 44/50, Loss: 0.06545034795999527, Validated Accuracy: 98.2456 %\n",
            "Epoch 45/50, Loss: 0.06459848582744598, Validated Accuracy: 98.2456 %\n",
            "Epoch 46/50, Loss: 0.06376605480909348, Validated Accuracy: 98.2456 %\n",
            "Epoch 47/50, Loss: 0.06295169144868851, Validated Accuracy: 98.2456 %\n",
            "Epoch 48/50, Loss: 0.06215629726648331, Validated Accuracy: 98.2456 %\n",
            "Epoch 49/50, Loss: 0.061381708830595016, Validated Accuracy: 98.2456 %\n",
            "Epoch 50/50, Loss: 0.06062410771846771, Validated Accuracy: 98.2456 %\n"
          ]
        }
      ]
    },
    {
      "cell_type": "markdown",
      "id": "585b925f-fcf0-4518-81d8-598dba65d646",
      "metadata": {
        "id": "585b925f-fcf0-4518-81d8-598dba65d646"
      },
      "source": [
        "### 4. Model Training\n",
        "\n",
        "Train your model and evaluate its performance using validation data."
      ]
    },
    {
      "cell_type": "code",
      "execution_count": null,
      "id": "ee33d9bc-2b35-4f78-b5d8-3eb65db1e361",
      "metadata": {
        "id": "ee33d9bc-2b35-4f78-b5d8-3eb65db1e361"
      },
      "outputs": [],
      "source": [
        "# # Write your code here for Model Training here\n",
        "# dl_loss_value = 0.16778932511806488\n",
        "\n",
        "# #define the iteration\n",
        "\n",
        "# #create the training loop\n"
      ]
    },
    {
      "cell_type": "markdown",
      "id": "1d391ec9-ca95-4c56-b4f6-fccf8e0be14a",
      "metadata": {
        "id": "1d391ec9-ca95-4c56-b4f6-fccf8e0be14a"
      },
      "source": [
        "### 5. Model Evaluation\n",
        "Evaluate your model's performance on the test data using the grading scheme defined above."
      ]
    },
    {
      "cell_type": "code",
      "execution_count": null,
      "id": "c8ca8f78-e33c-4552-9f4d-8bed711e661f",
      "metadata": {
        "id": "c8ca8f78-e33c-4552-9f4d-8bed711e661f"
      },
      "outputs": [],
      "source": [
        "# # Write your code here for Model Evaluation here\n",
        "# dl_accuracy = 97.37\n",
        "# #define the iteration\n",
        "\n",
        "# #create the training loop\n"
      ]
    },
    {
      "cell_type": "markdown",
      "id": "5d59af48-18c0-4e40-80ff-33a85030b205",
      "metadata": {
        "id": "5d59af48-18c0-4e40-80ff-33a85030b205"
      },
      "source": [
        "## Submission\n",
        "\n",
        "Once you are satisfied with the performance of your model, then you run the code block below to submit your project.\n"
      ]
    },
    {
      "cell_type": "code",
      "execution_count": null,
      "id": "010d7f7f-711d-4f41-82a3-3c2562e59709",
      "metadata": {
        "id": "010d7f7f-711d-4f41-82a3-3c2562e59709"
      },
      "outputs": [],
      "source": [
        "# Submit Method\n",
        "\n",
        "# Do not change the code below\n",
        "question_id = \"01_dl_project_accuracy\"\n",
        "submit(student_id, name, assignment_id, str(dl_accuracy), question_id, drive_link)\n",
        "question_id = \"02_dl_project_loss_value\"\n",
        "submit(student_id, name, assignment_id, str(dl_loss_value), question_id, drive_link)"
      ]
    },
    {
      "cell_type": "markdown",
      "id": "aa89b9ff-0d31-416a-b3c4-851c725fadf7",
      "metadata": {
        "id": "aa89b9ff-0d31-416a-b3c4-851c725fadf7"
      },
      "source": [
        "## FIN"
      ]
    }
  ],
  "metadata": {
    "kernelspec": {
      "display_name": "Python 3 (ipykernel)",
      "language": "python",
      "name": "python3"
    },
    "language_info": {
      "codemirror_mode": {
        "name": "ipython",
        "version": 3
      },
      "file_extension": ".py",
      "mimetype": "text/x-python",
      "name": "python",
      "nbconvert_exporter": "python",
      "pygments_lexer": "ipython3",
      "version": "3.11.3"
    },
    "colab": {
      "provenance": [],
      "include_colab_link": true
    }
  },
  "nbformat": 4,
  "nbformat_minor": 5
}