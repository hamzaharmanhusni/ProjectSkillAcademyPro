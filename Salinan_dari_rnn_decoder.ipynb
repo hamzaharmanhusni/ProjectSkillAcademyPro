{
  "cells": [
    {
      "cell_type": "markdown",
      "metadata": {
        "id": "view-in-github",
        "colab_type": "text"
      },
      "source": [
        "<a href=\"https://colab.research.google.com/github/hamzaharmanhusni/ProjectSkillAcademyPro/blob/main/Salinan_dari_rnn_decoder.ipynb\" target=\"_parent\"><img src=\"https://colab.research.google.com/assets/colab-badge.svg\" alt=\"Open In Colab\"/></a>"
      ]
    },
    {
      "cell_type": "markdown",
      "metadata": {
        "id": "ltWlxmAAMb89"
      },
      "source": [
        "# RNN Decoder"
      ]
    },
    {
      "cell_type": "markdown",
      "metadata": {
        "id": "3JveEU_sMb9B"
      },
      "source": [
        "**Instructions for Students:**\n",
        "\n",
        "Please carefully follow these steps to complete and submit your project:\n",
        "\n",
        "1. **Copy the Provided Google Sheets File**: Make a copy of the provided [Decoder RNN base Google Sheets file](https://docs.google.com/spreadsheets/d/1PM8hxXDTYR9jObl9oS4i2M-5PpUbbWIgBbnKDC9O02I/edit?usp=sharing). This copied file will serve as the repository for all your completed project files.\n",
        "2. **Sharing Sheets Link**: Share the link to your project's copied Google Sheets file. This is crucial for the submission and evaluation of your project.\n",
        "3. **Setting Permission to Public**: Ensure your copied Google Sheets file is set to public. This allows your instructor to access your solutions and assess your work correctly."
      ]
    },
    {
      "cell_type": "markdown",
      "metadata": {
        "id": "iUepTHNlMb9B"
      },
      "source": [
        "## Student Identity"
      ]
    },
    {
      "cell_type": "code",
      "execution_count": null,
      "metadata": {
        "id": "7j92FusHMb9C",
        "cellView": "form"
      },
      "outputs": [],
      "source": [
        "# @title #### Student Identity\n",
        "student_id = \"REAJGDG4\" # @param {type:\"string\"}\n",
        "name = \"Hamzah Arman Husni\" # @param {type:\"string\"}\n",
        "# Don't forget to fill in the link to your Google Sheet\n",
        "link_to_gsheet = \"https://docs.google.com/spreadsheets/d/1EAna3hTsQonZQ0NnuRWi06XbfgGNGREd5q7C-66PoG0/edit#gid=1204141015\"  # @param {type:\"string\"}"
      ]
    },
    {
      "cell_type": "markdown",
      "metadata": {
        "id": "ONm8dsZcMb9D"
      },
      "source": [
        "## Import package"
      ]
    },
    {
      "cell_type": "code",
      "execution_count": null,
      "metadata": {
        "id": "r8WiPLABMb9E",
        "outputId": "385d5176-2bd8-45ad-a466-30fff5056182",
        "colab": {
          "base_uri": "https://localhost:8080/"
        }
      },
      "outputs": [
        {
          "output_type": "stream",
          "name": "stdout",
          "text": [
            "Collecting rggrader\n",
            "  Downloading rggrader-0.1.6-py3-none-any.whl (2.5 kB)\n",
            "Requirement already satisfied: requests in /usr/local/lib/python3.10/dist-packages (from rggrader) (2.31.0)\n",
            "Requirement already satisfied: pandas in /usr/local/lib/python3.10/dist-packages (from rggrader) (1.5.3)\n",
            "Requirement already satisfied: Pillow in /usr/local/lib/python3.10/dist-packages (from rggrader) (9.4.0)\n",
            "Requirement already satisfied: python-dateutil>=2.8.1 in /usr/local/lib/python3.10/dist-packages (from pandas->rggrader) (2.8.2)\n",
            "Requirement already satisfied: pytz>=2020.1 in /usr/local/lib/python3.10/dist-packages (from pandas->rggrader) (2023.4)\n",
            "Requirement already satisfied: numpy>=1.21.0 in /usr/local/lib/python3.10/dist-packages (from pandas->rggrader) (1.25.2)\n",
            "Requirement already satisfied: charset-normalizer<4,>=2 in /usr/local/lib/python3.10/dist-packages (from requests->rggrader) (3.3.2)\n",
            "Requirement already satisfied: idna<4,>=2.5 in /usr/local/lib/python3.10/dist-packages (from requests->rggrader) (3.6)\n",
            "Requirement already satisfied: urllib3<3,>=1.21.1 in /usr/local/lib/python3.10/dist-packages (from requests->rggrader) (2.0.7)\n",
            "Requirement already satisfied: certifi>=2017.4.17 in /usr/local/lib/python3.10/dist-packages (from requests->rggrader) (2024.2.2)\n",
            "Requirement already satisfied: six>=1.5 in /usr/local/lib/python3.10/dist-packages (from python-dateutil>=2.8.1->pandas->rggrader) (1.16.0)\n",
            "Installing collected packages: rggrader\n",
            "Successfully installed rggrader-0.1.6\n"
          ]
        }
      ],
      "source": [
        "!pip install rggrader\n",
        "from rggrader import submit"
      ]
    },
    {
      "cell_type": "markdown",
      "metadata": {
        "id": "-OPMQJEpMb9E"
      },
      "source": [
        "## Dencoder RNN Project 1"
      ]
    },
    {
      "cell_type": "markdown",
      "metadata": {
        "id": "7UtEuYRYMb9E"
      },
      "source": [
        "Building on your work with the **Encoder in Project 2**, we now turn our attention to the Decoder part of our Recurrent Neural Network (RNN), used for machine translation. In this phase, the hidden states generated by the Encoder serve as inputs for the Decoder. The following steps provide guidance on how to manipulate these hidden states in the Decoder to generate our desired output sequence.\n",
        "\n",
        "1. **Copy the Last Hidden State from the Encoder**:\n",
        "    - Start by identifying the last hidden state from the encoder. This can be found in the final column of 'hidden state' on the encoder sheet.\n",
        "    - Once found, copy these values and paste them into the 'hidden state (prev)' row for the first timestep in the decoder sheet.\n",
        "\n",
        "      > **Note:** We only need to copy and paste the value, not the formula, so use `ctrl+shift+v` or \"Paste by Value\" methods to ensure that you're pasting the text correctly.\n",
        "\n",
        "2. **Identify the Most Probable Word for Timestep 1**:\n",
        "    - Look at the 'Output probability' section for the first timestep in the decoder sheet.\n",
        "    - The most probable word would be the one with the highest value. Identify this word.\n",
        "\n",
        "3. **Input the Most Probable Word in Timestep 2**:\n",
        "    - After identifying the most probable word from timestep 1, input this word into the 'Input' row for timestep 2 on the decoder sheet.\n",
        "    - Also, update the 'Word embedding' row for timestep 2 to match the one-hot encoded vector for the identified word.\n",
        "\n",
        "4. **Continue the Process Until the Last Timestep**:\n",
        "    - Repeat steps 2 and 3 for each subsequent timestep until you reach the final timestep.\n",
        "    - For the final timestep, the input should be `[eos]` which signals the end of the sentence.\n",
        "\n",
        "5. **Update the Hidden States and Activities**:\n",
        "     - Use the appropriate formulas to calculate the hidden states and activities for each timestep based on the input and the previous hidden state.\n",
        "     - Make sure to update these values in the corresponding rows of the decoder sheet for each timestep.\n",
        "\n",
        "Remember, the goal of the RNN Decoder is to generate a sequence of words, so it's crucial to ensure the inputs, hidden states, and activities are updated correctly at each timestep."
      ]
    },
    {
      "cell_type": "markdown",
      "metadata": {
        "id": "BXRm2_pYMb9F"
      },
      "source": [
        "**For example**, consider the following image:\n",
        "\n",
        "![Alt text](https://storage.googleapis.com/rg-ai-bootcamp/projects/image.png)"
      ]
    },
    {
      "cell_type": "markdown",
      "metadata": {
        "id": "dMKW-iSYMb9F"
      },
      "source": [
        "Once you've followed the instructions and completed the calculations in your cloned Google Sheet, the next step is to submit your results. In this process, you will be focusing on the final hidden state for four features: 'likeness', 'beverages' and 'fruits'.\n",
        "\n",
        "You'll need to assign the final probabilities for these features to the variables `final_eos_likeness`, `final_eos_beverages`, and `final_eos_fruits` respectively. Then, use the `submit` function provided to submit your results along with the Google Sheet link. Ensure you're submitting under the correct assignment_id, and the specific question identifier."
      ]
    },
    {
      "cell_type": "code",
      "execution_count": null,
      "metadata": {
        "id": "y1mQotDXMb9F",
        "outputId": "0cc11346-c2b7-435c-c696-35e855227fc3",
        "colab": {
          "base_uri": "https://localhost:8080/",
          "height": 87
        }
      },
      "outputs": [
        {
          "output_type": "stream",
          "name": "stdout",
          "text": [
            "The final probability for '[final_eos_likeness]' is -0.4060441755\n",
            "The final probability for '[final_eos_beverages]' is 0\n",
            "The final probability for '[final_eos_fruits]' is 0.4719711899\n"
          ]
        },
        {
          "output_type": "execute_result",
          "data": {
            "text/plain": [
              "'Assignment successfully submitted'"
            ],
            "application/vnd.google.colaboratory.intrinsic+json": {
              "type": "string"
            }
          },
          "metadata": {},
          "execution_count": 3
        }
      ],
      "source": [
        "# Clone the provided Google Sheet and do your calculation there\n",
        "\n",
        "# Please input your results in the following variables\n",
        "final_eos_likeness = -0.4060441755\n",
        "final_eos_beverages = 0\n",
        "final_eos_fruits = 0.4719711899\n",
        "\n",
        "print(f\"The final probability for '[final_eos_likeness]' is {final_eos_likeness}\")\n",
        "print(f\"The final probability for '[final_eos_beverages]' is {final_eos_beverages}\")\n",
        "print(f\"The final probability for '[final_eos_fruits]' is {final_eos_fruits}\")\n",
        "\n",
        "assignment_id = \"00-decoder-rnn-project-1\"\n",
        "# Submit your answers here\n",
        "submit(student_id, name, assignment_id, str(final_eos_likeness), \"q1_final_hidden_state_eos_likeness\", link_to_gsheet)\n",
        "submit(student_id, name, assignment_id, str(final_eos_beverages), \"q1_final_hidden_state_eos_beverages\", link_to_gsheet)\n",
        "submit(student_id, name, assignment_id, str(final_eos_fruits), \"q1_final_hidden_state_eos_fruits\", link_to_gsheet)"
      ]
    }
  ],
  "metadata": {
    "language_info": {
      "name": "python"
    },
    "orig_nbformat": 4,
    "colab": {
      "provenance": [],
      "include_colab_link": true
    },
    "kernelspec": {
      "name": "python3",
      "display_name": "Python 3"
    }
  },
  "nbformat": 4,
  "nbformat_minor": 0
}